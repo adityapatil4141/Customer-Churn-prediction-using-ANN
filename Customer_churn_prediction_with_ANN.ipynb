{
  "metadata": {
    "kernelspec": {
      "language": "python",
      "display_name": "Python 3",
      "name": "python3"
    },
    "language_info": {
      "name": "python",
      "version": "3.10.13",
      "mimetype": "text/x-python",
      "codemirror_mode": {
        "name": "ipython",
        "version": 3
      },
      "pygments_lexer": "ipython3",
      "nbconvert_exporter": "python",
      "file_extension": ".py"
    },
    "kaggle": {
      "accelerator": "none",
      "dataSources": [
        {
          "sourceId": 1481789,
          "sourceType": "datasetVersion",
          "datasetId": 869651
        }
      ],
      "dockerImageVersionId": 30673,
      "isInternetEnabled": false,
      "language": "python",
      "sourceType": "notebook",
      "isGpuEnabled": false
    },
    "colab": {
      "provenance": [],
      "include_colab_link": true
    }
  },
  "nbformat_minor": 0,
  "nbformat": 4,
  "cells": [
    {
      "cell_type": "markdown",
      "metadata": {
        "id": "view-in-github",
        "colab_type": "text"
      },
      "source": [
        "<a href=\"https://colab.research.google.com/github/adityapatil4141/Customer-Churn-prediction-using-ANN/blob/main/Customer_churn_prediction_with_ANN.ipynb\" target=\"_parent\"><img src=\"https://colab.research.google.com/assets/colab-badge.svg\" alt=\"Open In Colab\"/></a>"
      ]
    },
    {
      "source": [
        "\n",
        "# IMPORTANT: RUN THIS CELL IN ORDER TO IMPORT YOUR KAGGLE DATA SOURCES\n",
        "# TO THE CORRECT LOCATION (/kaggle/input) IN YOUR NOTEBOOK,\n",
        "# THEN FEEL FREE TO DELETE THIS CELL.\n",
        "# NOTE: THIS NOTEBOOK ENVIRONMENT DIFFERS FROM KAGGLE'S PYTHON\n",
        "# ENVIRONMENT SO THERE MAY BE MISSING LIBRARIES USED BY YOUR\n",
        "# NOTEBOOK.\n",
        "\n",
        "import os\n",
        "import sys\n",
        "from tempfile import NamedTemporaryFile\n",
        "from urllib.request import urlopen\n",
        "from urllib.parse import unquote, urlparse\n",
        "from urllib.error import HTTPError\n",
        "from zipfile import ZipFile\n",
        "import tarfile\n",
        "import shutil\n",
        "\n",
        "CHUNK_SIZE = 40960\n",
        "DATA_SOURCE_MAPPING = 'credit-card-customer-churn-prediction:https%3A%2F%2Fstorage.googleapis.com%2Fkaggle-data-sets%2F869651%2F1481789%2Fbundle%2Farchive.zip%3FX-Goog-Algorithm%3DGOOG4-RSA-SHA256%26X-Goog-Credential%3Dgcp-kaggle-com%2540kaggle-161607.iam.gserviceaccount.com%252F20240408%252Fauto%252Fstorage%252Fgoog4_request%26X-Goog-Date%3D20240408T121615Z%26X-Goog-Expires%3D259200%26X-Goog-SignedHeaders%3Dhost%26X-Goog-Signature%3Dd2a298c40e28402c8cb2267aa665cc1f575fa1e3aeee95bc1bfcf471b7d874b64680561aecc379227fec7bdd57809391ac6203aa9e4d123172b6d15d6472efab23cce02f2bbe6e1c2b8bda5350c00beeea92b93305333fb28afcd8a716077b01c82bde4ac108514ebb21ef3c1a5a46ad129c9c39f9f4248eedf2d3e74e51ee196b172ea04ad0df5da26b9dea076d33115b2889c92a58097f3eb9c6c36cd5441b45fb345476c5ef90cff42c6368767d23cc61dfc7f37bc74b9b38f7ff2d54e965d789d2f71a8d2b3c427d0fea59b9a04cf50e17b09c11bb24d4047021da2548e7bcee10a885e54d0c2ddff68972ebaf968c4672549fb628bfade81d733e769ff4'\n",
        "\n",
        "KAGGLE_INPUT_PATH='/kaggle/input'\n",
        "KAGGLE_WORKING_PATH='/kaggle/working'\n",
        "KAGGLE_SYMLINK='kaggle'\n",
        "\n",
        "!umount /kaggle/input/ 2> /dev/null\n",
        "shutil.rmtree('/kaggle/input', ignore_errors=True)\n",
        "os.makedirs(KAGGLE_INPUT_PATH, 0o777, exist_ok=True)\n",
        "os.makedirs(KAGGLE_WORKING_PATH, 0o777, exist_ok=True)\n",
        "\n",
        "try:\n",
        "  os.symlink(KAGGLE_INPUT_PATH, os.path.join(\"..\", 'input'), target_is_directory=True)\n",
        "except FileExistsError:\n",
        "  pass\n",
        "try:\n",
        "  os.symlink(KAGGLE_WORKING_PATH, os.path.join(\"..\", 'working'), target_is_directory=True)\n",
        "except FileExistsError:\n",
        "  pass\n",
        "\n",
        "for data_source_mapping in DATA_SOURCE_MAPPING.split(','):\n",
        "    directory, download_url_encoded = data_source_mapping.split(':')\n",
        "    download_url = unquote(download_url_encoded)\n",
        "    filename = urlparse(download_url).path\n",
        "    destination_path = os.path.join(KAGGLE_INPUT_PATH, directory)\n",
        "    try:\n",
        "        with urlopen(download_url) as fileres, NamedTemporaryFile() as tfile:\n",
        "            total_length = fileres.headers['content-length']\n",
        "            print(f'Downloading {directory}, {total_length} bytes compressed')\n",
        "            dl = 0\n",
        "            data = fileres.read(CHUNK_SIZE)\n",
        "            while len(data) > 0:\n",
        "                dl += len(data)\n",
        "                tfile.write(data)\n",
        "                done = int(50 * dl / int(total_length))\n",
        "                sys.stdout.write(f\"\\r[{'=' * done}{' ' * (50-done)}] {dl} bytes downloaded\")\n",
        "                sys.stdout.flush()\n",
        "                data = fileres.read(CHUNK_SIZE)\n",
        "            if filename.endswith('.zip'):\n",
        "              with ZipFile(tfile) as zfile:\n",
        "                zfile.extractall(destination_path)\n",
        "            else:\n",
        "              with tarfile.open(tfile.name) as tarfile:\n",
        "                tarfile.extractall(destination_path)\n",
        "            print(f'\\nDownloaded and uncompressed: {directory}')\n",
        "    except HTTPError as e:\n",
        "        print(f'Failed to load (likely expired) {download_url} to path {destination_path}')\n",
        "        continue\n",
        "    except OSError as e:\n",
        "        print(f'Failed to load {download_url} to path {destination_path}')\n",
        "        continue\n",
        "\n",
        "print('Data source import complete.')\n"
      ],
      "metadata": {
        "id": "Xf_LIHefo2Be"
      },
      "cell_type": "code",
      "outputs": [],
      "execution_count": null
    },
    {
      "cell_type": "code",
      "source": [
        "# This Python 3 environment comes with many helpful analytics libraries installed\n",
        "# It is defined by the kaggle/python Docker image: https://github.com/kaggle/docker-python\n",
        "# For example, here's several helpful packages to load\n",
        "\n",
        "import numpy as np # linear algebra\n",
        "import pandas as pd # data processing, CSV file I/O (e.g. pd.read_csv)\n",
        "\n",
        "# Input data files are available in the read-only \"../input/\" directory\n",
        "# For example, running this (by clicking run or pressing Shift+Enter) will list all files under the input directory\n",
        "\n",
        "import os\n",
        "for dirname, _, filenames in os.walk('/kaggle/input'):\n",
        "    for filename in filenames:\n",
        "        print(os.path.join(dirname, filename))\n",
        "\n",
        "# You can write up to 20GB to the current directory (/kaggle/working/) that gets preserved as output when you create a version using \"Save & Run All\"\n",
        "# You can also write temporary files to /kaggle/temp/, but they won't be saved outside of the current session"
      ],
      "metadata": {
        "_uuid": "8f2839f25d086af736a60e9eeb907d3b93b6e0e5",
        "_cell_guid": "b1076dfc-b9ad-4769-8c92-a6c4dae69d19",
        "execution": {
          "iopub.status.busy": "2024-04-08T10:57:00.947511Z",
          "iopub.execute_input": "2024-04-08T10:57:00.9479Z",
          "iopub.status.idle": "2024-04-08T10:57:00.956959Z",
          "shell.execute_reply.started": "2024-04-08T10:57:00.947869Z",
          "shell.execute_reply": "2024-04-08T10:57:00.955668Z"
        },
        "trusted": true,
        "id": "rHXrYoFVo2Bl",
        "outputId": "ce24f8d8-f30a-49d5-8970-54a446691cb9"
      },
      "execution_count": null,
      "outputs": [
        {
          "name": "stdout",
          "text": "/kaggle/input/credit-card-customer-churn-prediction/Churn_Modelling.csv\n",
          "output_type": "stream"
        }
      ]
    },
    {
      "cell_type": "code",
      "source": [
        "df = pd.read_csv('/kaggle/input/credit-card-customer-churn-prediction/Churn_Modelling.csv')"
      ],
      "metadata": {
        "execution": {
          "iopub.status.busy": "2024-04-08T11:11:37.85089Z",
          "iopub.execute_input": "2024-04-08T11:11:37.851315Z",
          "iopub.status.idle": "2024-04-08T11:11:37.881113Z",
          "shell.execute_reply.started": "2024-04-08T11:11:37.851261Z",
          "shell.execute_reply": "2024-04-08T11:11:37.879961Z"
        },
        "trusted": true,
        "id": "7SxM2aj6o2Bn"
      },
      "execution_count": null,
      "outputs": []
    },
    {
      "cell_type": "code",
      "source": [
        "df.head()"
      ],
      "metadata": {
        "execution": {
          "iopub.status.busy": "2024-04-08T11:11:40.43675Z",
          "iopub.execute_input": "2024-04-08T11:11:40.437187Z",
          "iopub.status.idle": "2024-04-08T11:11:40.454658Z",
          "shell.execute_reply.started": "2024-04-08T11:11:40.437153Z",
          "shell.execute_reply": "2024-04-08T11:11:40.453308Z"
        },
        "trusted": true,
        "id": "qcYurLDSo2Bo",
        "outputId": "94e2300f-66fa-4b9e-f58d-7ab6254b8197"
      },
      "execution_count": null,
      "outputs": [
        {
          "execution_count": 87,
          "output_type": "execute_result",
          "data": {
            "text/plain": "   RowNumber  CustomerId   Surname  CreditScore Geography  Gender  Age  \\\n0          1    15634602  Hargrave          619    France  Female   42   \n1          2    15647311      Hill          608     Spain  Female   41   \n2          3    15619304      Onio          502    France  Female   42   \n3          4    15701354      Boni          699    France  Female   39   \n4          5    15737888  Mitchell          850     Spain  Female   43   \n\n   Tenure    Balance  NumOfProducts  HasCrCard  IsActiveMember  \\\n0       2       0.00              1          1               1   \n1       1   83807.86              1          0               1   \n2       8  159660.80              3          1               0   \n3       1       0.00              2          0               0   \n4       2  125510.82              1          1               1   \n\n   EstimatedSalary  Exited  \n0        101348.88       1  \n1        112542.58       0  \n2        113931.57       1  \n3         93826.63       0  \n4         79084.10       0  ",
            "text/html": "<div>\n<style scoped>\n    .dataframe tbody tr th:only-of-type {\n        vertical-align: middle;\n    }\n\n    .dataframe tbody tr th {\n        vertical-align: top;\n    }\n\n    .dataframe thead th {\n        text-align: right;\n    }\n</style>\n<table border=\"1\" class=\"dataframe\">\n  <thead>\n    <tr style=\"text-align: right;\">\n      <th></th>\n      <th>RowNumber</th>\n      <th>CustomerId</th>\n      <th>Surname</th>\n      <th>CreditScore</th>\n      <th>Geography</th>\n      <th>Gender</th>\n      <th>Age</th>\n      <th>Tenure</th>\n      <th>Balance</th>\n      <th>NumOfProducts</th>\n      <th>HasCrCard</th>\n      <th>IsActiveMember</th>\n      <th>EstimatedSalary</th>\n      <th>Exited</th>\n    </tr>\n  </thead>\n  <tbody>\n    <tr>\n      <th>0</th>\n      <td>1</td>\n      <td>15634602</td>\n      <td>Hargrave</td>\n      <td>619</td>\n      <td>France</td>\n      <td>Female</td>\n      <td>42</td>\n      <td>2</td>\n      <td>0.00</td>\n      <td>1</td>\n      <td>1</td>\n      <td>1</td>\n      <td>101348.88</td>\n      <td>1</td>\n    </tr>\n    <tr>\n      <th>1</th>\n      <td>2</td>\n      <td>15647311</td>\n      <td>Hill</td>\n      <td>608</td>\n      <td>Spain</td>\n      <td>Female</td>\n      <td>41</td>\n      <td>1</td>\n      <td>83807.86</td>\n      <td>1</td>\n      <td>0</td>\n      <td>1</td>\n      <td>112542.58</td>\n      <td>0</td>\n    </tr>\n    <tr>\n      <th>2</th>\n      <td>3</td>\n      <td>15619304</td>\n      <td>Onio</td>\n      <td>502</td>\n      <td>France</td>\n      <td>Female</td>\n      <td>42</td>\n      <td>8</td>\n      <td>159660.80</td>\n      <td>3</td>\n      <td>1</td>\n      <td>0</td>\n      <td>113931.57</td>\n      <td>1</td>\n    </tr>\n    <tr>\n      <th>3</th>\n      <td>4</td>\n      <td>15701354</td>\n      <td>Boni</td>\n      <td>699</td>\n      <td>France</td>\n      <td>Female</td>\n      <td>39</td>\n      <td>1</td>\n      <td>0.00</td>\n      <td>2</td>\n      <td>0</td>\n      <td>0</td>\n      <td>93826.63</td>\n      <td>0</td>\n    </tr>\n    <tr>\n      <th>4</th>\n      <td>5</td>\n      <td>15737888</td>\n      <td>Mitchell</td>\n      <td>850</td>\n      <td>Spain</td>\n      <td>Female</td>\n      <td>43</td>\n      <td>2</td>\n      <td>125510.82</td>\n      <td>1</td>\n      <td>1</td>\n      <td>1</td>\n      <td>79084.10</td>\n      <td>0</td>\n    </tr>\n  </tbody>\n</table>\n</div>"
          },
          "metadata": {}
        }
      ]
    },
    {
      "cell_type": "code",
      "source": [
        "df.info()"
      ],
      "metadata": {
        "execution": {
          "iopub.status.busy": "2024-04-08T11:11:44.460975Z",
          "iopub.execute_input": "2024-04-08T11:11:44.461376Z",
          "iopub.status.idle": "2024-04-08T11:11:44.475218Z",
          "shell.execute_reply.started": "2024-04-08T11:11:44.461346Z",
          "shell.execute_reply": "2024-04-08T11:11:44.473854Z"
        },
        "trusted": true,
        "id": "WsIVNhLho2Bo",
        "outputId": "c5df30a4-2b03-4eb8-fa49-3d305a4702f0"
      },
      "execution_count": null,
      "outputs": [
        {
          "name": "stdout",
          "text": "<class 'pandas.core.frame.DataFrame'>\nRangeIndex: 10000 entries, 0 to 9999\nData columns (total 14 columns):\n #   Column           Non-Null Count  Dtype  \n---  ------           --------------  -----  \n 0   RowNumber        10000 non-null  int64  \n 1   CustomerId       10000 non-null  int64  \n 2   Surname          10000 non-null  object \n 3   CreditScore      10000 non-null  int64  \n 4   Geography        10000 non-null  object \n 5   Gender           10000 non-null  object \n 6   Age              10000 non-null  int64  \n 7   Tenure           10000 non-null  int64  \n 8   Balance          10000 non-null  float64\n 9   NumOfProducts    10000 non-null  int64  \n 10  HasCrCard        10000 non-null  int64  \n 11  IsActiveMember   10000 non-null  int64  \n 12  EstimatedSalary  10000 non-null  float64\n 13  Exited           10000 non-null  int64  \ndtypes: float64(2), int64(9), object(3)\nmemory usage: 1.1+ MB\n",
          "output_type": "stream"
        }
      ]
    },
    {
      "cell_type": "code",
      "source": [
        "df.duplicated().sum()"
      ],
      "metadata": {
        "execution": {
          "iopub.status.busy": "2024-04-08T11:11:47.42588Z",
          "iopub.execute_input": "2024-04-08T11:11:47.42698Z",
          "iopub.status.idle": "2024-04-08T11:11:47.443262Z",
          "shell.execute_reply.started": "2024-04-08T11:11:47.426912Z",
          "shell.execute_reply": "2024-04-08T11:11:47.441628Z"
        },
        "trusted": true,
        "id": "1U1wMA7lo2Bp",
        "outputId": "d7e96430-40d7-4264-bb85-7418221d3844"
      },
      "execution_count": null,
      "outputs": [
        {
          "execution_count": 90,
          "output_type": "execute_result",
          "data": {
            "text/plain": "0"
          },
          "metadata": {}
        }
      ]
    },
    {
      "cell_type": "code",
      "source": [
        "df.Exited.value_counts()"
      ],
      "metadata": {
        "execution": {
          "iopub.status.busy": "2024-04-08T11:11:48.961295Z",
          "iopub.execute_input": "2024-04-08T11:11:48.962041Z",
          "iopub.status.idle": "2024-04-08T11:11:48.972393Z",
          "shell.execute_reply.started": "2024-04-08T11:11:48.961992Z",
          "shell.execute_reply": "2024-04-08T11:11:48.970501Z"
        },
        "trusted": true,
        "id": "ep51xJN8o2Bp",
        "outputId": "a01748da-124b-4aeb-bfdd-507a95f0e6c8"
      },
      "execution_count": null,
      "outputs": [
        {
          "execution_count": 91,
          "output_type": "execute_result",
          "data": {
            "text/plain": "Exited\n0    7963\n1    2037\nName: count, dtype: int64"
          },
          "metadata": {}
        }
      ]
    },
    {
      "cell_type": "code",
      "source": [
        "df.Geography.value_counts()"
      ],
      "metadata": {
        "execution": {
          "iopub.status.busy": "2024-04-08T11:11:50.426627Z",
          "iopub.execute_input": "2024-04-08T11:11:50.427314Z",
          "iopub.status.idle": "2024-04-08T11:11:50.436579Z",
          "shell.execute_reply.started": "2024-04-08T11:11:50.427274Z",
          "shell.execute_reply": "2024-04-08T11:11:50.435238Z"
        },
        "trusted": true,
        "id": "RwH_VwPno2Bq",
        "outputId": "b8d71cfc-b929-42b5-8d6d-11ae6fe8336c"
      },
      "execution_count": null,
      "outputs": [
        {
          "execution_count": 92,
          "output_type": "execute_result",
          "data": {
            "text/plain": "Geography\nFrance     5014\nGermany    2509\nSpain      2477\nName: count, dtype: int64"
          },
          "metadata": {}
        }
      ]
    },
    {
      "cell_type": "code",
      "source": [
        "df.Gender.value_counts()"
      ],
      "metadata": {
        "execution": {
          "iopub.status.busy": "2024-04-08T11:11:51.867564Z",
          "iopub.execute_input": "2024-04-08T11:11:51.868338Z",
          "iopub.status.idle": "2024-04-08T11:11:51.879018Z",
          "shell.execute_reply.started": "2024-04-08T11:11:51.868296Z",
          "shell.execute_reply": "2024-04-08T11:11:51.877779Z"
        },
        "trusted": true,
        "id": "40W1UI1Ro2Br",
        "outputId": "c8012e3f-e862-4d3f-ddda-c73b5d54cbdf"
      },
      "execution_count": null,
      "outputs": [
        {
          "execution_count": 93,
          "output_type": "execute_result",
          "data": {
            "text/plain": "Gender\nMale      5457\nFemale    4543\nName: count, dtype: int64"
          },
          "metadata": {}
        }
      ]
    },
    {
      "cell_type": "code",
      "source": [
        "df.drop(columns=['RowNumber','CustomerId','Surname'],inplace=True)"
      ],
      "metadata": {
        "execution": {
          "iopub.status.busy": "2024-04-08T11:11:53.960957Z",
          "iopub.execute_input": "2024-04-08T11:11:53.962066Z",
          "iopub.status.idle": "2024-04-08T11:11:53.969342Z",
          "shell.execute_reply.started": "2024-04-08T11:11:53.962013Z",
          "shell.execute_reply": "2024-04-08T11:11:53.968284Z"
        },
        "trusted": true,
        "id": "P5o6sJ-uo2Bs"
      },
      "execution_count": null,
      "outputs": []
    },
    {
      "cell_type": "code",
      "source": [
        "df.info()"
      ],
      "metadata": {
        "execution": {
          "iopub.status.busy": "2024-04-08T11:11:55.18693Z",
          "iopub.execute_input": "2024-04-08T11:11:55.187712Z",
          "iopub.status.idle": "2024-04-08T11:11:55.206574Z",
          "shell.execute_reply.started": "2024-04-08T11:11:55.187657Z",
          "shell.execute_reply": "2024-04-08T11:11:55.205053Z"
        },
        "trusted": true,
        "id": "Ua8Fz2iJo2Bs",
        "outputId": "6dfac6fc-3ea0-44d3-e357-4148349780d3"
      },
      "execution_count": null,
      "outputs": [
        {
          "name": "stdout",
          "text": "<class 'pandas.core.frame.DataFrame'>\nRangeIndex: 10000 entries, 0 to 9999\nData columns (total 11 columns):\n #   Column           Non-Null Count  Dtype  \n---  ------           --------------  -----  \n 0   CreditScore      10000 non-null  int64  \n 1   Geography        10000 non-null  object \n 2   Gender           10000 non-null  object \n 3   Age              10000 non-null  int64  \n 4   Tenure           10000 non-null  int64  \n 5   Balance          10000 non-null  float64\n 6   NumOfProducts    10000 non-null  int64  \n 7   HasCrCard        10000 non-null  int64  \n 8   IsActiveMember   10000 non-null  int64  \n 9   EstimatedSalary  10000 non-null  float64\n 10  Exited           10000 non-null  int64  \ndtypes: float64(2), int64(7), object(2)\nmemory usage: 859.5+ KB\n",
          "output_type": "stream"
        }
      ]
    },
    {
      "cell_type": "code",
      "source": [
        "#Performing one-hot encoding on 2 columns - (Geography, Gender):\n",
        "from sklearn.preprocessing import OneHotEncoder\n",
        "ohe = OneHotEncoder()\n",
        "\n",
        "dummy_df = pd.get_dummies(df[['Geography','Gender']],drop_first=True)\n",
        "dummy_df = dummy_df.astype(int)\n",
        "\n",
        "# Drop original Geography and Gender columns from the original DataFrame\n",
        "df.drop(['Geography', 'Gender'], axis=1, inplace=True)\n",
        "\n",
        "# Concatenate the dummy variables with the original DataFrame\n",
        "df = pd.concat([df, dummy_df], axis=1)\n",
        "\n",
        "# Display the modified DataFrame\n",
        "df.head()"
      ],
      "metadata": {
        "execution": {
          "iopub.status.busy": "2024-04-08T11:12:08.971685Z",
          "iopub.execute_input": "2024-04-08T11:12:08.972695Z",
          "iopub.status.idle": "2024-04-08T11:12:09.065394Z",
          "shell.execute_reply.started": "2024-04-08T11:12:08.972648Z",
          "shell.execute_reply": "2024-04-08T11:12:09.064051Z"
        },
        "trusted": true,
        "id": "IF-Vseqxo2Bt",
        "outputId": "3a15990a-4399-4cbb-a62d-85f7c8f5a68a"
      },
      "execution_count": null,
      "outputs": [
        {
          "traceback": [
            "\u001b[0;31m---------------------------------------------------------------------------\u001b[0m",
            "\u001b[0;31mKeyError\u001b[0m                                  Traceback (most recent call last)",
            "Cell \u001b[0;32mIn[97], line 5\u001b[0m\n\u001b[1;32m      2\u001b[0m \u001b[38;5;28;01mfrom\u001b[39;00m \u001b[38;5;21;01msklearn\u001b[39;00m\u001b[38;5;21;01m.\u001b[39;00m\u001b[38;5;21;01mpreprocessing\u001b[39;00m \u001b[38;5;28;01mimport\u001b[39;00m OneHotEncoder\n\u001b[1;32m      3\u001b[0m ohe \u001b[38;5;241m=\u001b[39m OneHotEncoder()\n\u001b[0;32m----> 5\u001b[0m dummy_df \u001b[38;5;241m=\u001b[39m pd\u001b[38;5;241m.\u001b[39mget_dummies(\u001b[43mdf\u001b[49m\u001b[43m[\u001b[49m\u001b[43m[\u001b[49m\u001b[38;5;124;43m'\u001b[39;49m\u001b[38;5;124;43mGeography\u001b[39;49m\u001b[38;5;124;43m'\u001b[39;49m\u001b[43m,\u001b[49m\u001b[38;5;124;43m'\u001b[39;49m\u001b[38;5;124;43mGender\u001b[39;49m\u001b[38;5;124;43m'\u001b[39;49m\u001b[43m]\u001b[49m\u001b[43m]\u001b[49m,drop_first\u001b[38;5;241m=\u001b[39m\u001b[38;5;28;01mTrue\u001b[39;00m)\n\u001b[1;32m      6\u001b[0m dummy_df \u001b[38;5;241m=\u001b[39m dummy_df\u001b[38;5;241m.\u001b[39mastype(\u001b[38;5;28mint\u001b[39m)\n\u001b[1;32m      8\u001b[0m \u001b[38;5;66;03m# Drop original Geography and Gender columns from the original DataFrame\u001b[39;00m\n",
            "File \u001b[0;32m/opt/conda/lib/python3.10/site-packages/pandas/core/frame.py:4096\u001b[0m, in \u001b[0;36mDataFrame.__getitem__\u001b[0;34m(self, key)\u001b[0m\n\u001b[1;32m   4094\u001b[0m     \u001b[38;5;28;01mif\u001b[39;00m is_iterator(key):\n\u001b[1;32m   4095\u001b[0m         key \u001b[38;5;241m=\u001b[39m \u001b[38;5;28mlist\u001b[39m(key)\n\u001b[0;32m-> 4096\u001b[0m     indexer \u001b[38;5;241m=\u001b[39m \u001b[38;5;28;43mself\u001b[39;49m\u001b[38;5;241;43m.\u001b[39;49m\u001b[43mcolumns\u001b[49m\u001b[38;5;241;43m.\u001b[39;49m\u001b[43m_get_indexer_strict\u001b[49m\u001b[43m(\u001b[49m\u001b[43mkey\u001b[49m\u001b[43m,\u001b[49m\u001b[43m \u001b[49m\u001b[38;5;124;43m\"\u001b[39;49m\u001b[38;5;124;43mcolumns\u001b[39;49m\u001b[38;5;124;43m\"\u001b[39;49m\u001b[43m)\u001b[49m[\u001b[38;5;241m1\u001b[39m]\n\u001b[1;32m   4098\u001b[0m \u001b[38;5;66;03m# take() does not accept boolean indexers\u001b[39;00m\n\u001b[1;32m   4099\u001b[0m \u001b[38;5;28;01mif\u001b[39;00m \u001b[38;5;28mgetattr\u001b[39m(indexer, \u001b[38;5;124m\"\u001b[39m\u001b[38;5;124mdtype\u001b[39m\u001b[38;5;124m\"\u001b[39m, \u001b[38;5;28;01mNone\u001b[39;00m) \u001b[38;5;241m==\u001b[39m \u001b[38;5;28mbool\u001b[39m:\n",
            "File \u001b[0;32m/opt/conda/lib/python3.10/site-packages/pandas/core/indexes/base.py:6200\u001b[0m, in \u001b[0;36mIndex._get_indexer_strict\u001b[0;34m(self, key, axis_name)\u001b[0m\n\u001b[1;32m   6197\u001b[0m \u001b[38;5;28;01melse\u001b[39;00m:\n\u001b[1;32m   6198\u001b[0m     keyarr, indexer, new_indexer \u001b[38;5;241m=\u001b[39m \u001b[38;5;28mself\u001b[39m\u001b[38;5;241m.\u001b[39m_reindex_non_unique(keyarr)\n\u001b[0;32m-> 6200\u001b[0m \u001b[38;5;28;43mself\u001b[39;49m\u001b[38;5;241;43m.\u001b[39;49m\u001b[43m_raise_if_missing\u001b[49m\u001b[43m(\u001b[49m\u001b[43mkeyarr\u001b[49m\u001b[43m,\u001b[49m\u001b[43m \u001b[49m\u001b[43mindexer\u001b[49m\u001b[43m,\u001b[49m\u001b[43m \u001b[49m\u001b[43maxis_name\u001b[49m\u001b[43m)\u001b[49m\n\u001b[1;32m   6202\u001b[0m keyarr \u001b[38;5;241m=\u001b[39m \u001b[38;5;28mself\u001b[39m\u001b[38;5;241m.\u001b[39mtake(indexer)\n\u001b[1;32m   6203\u001b[0m \u001b[38;5;28;01mif\u001b[39;00m \u001b[38;5;28misinstance\u001b[39m(key, Index):\n\u001b[1;32m   6204\u001b[0m     \u001b[38;5;66;03m# GH 42790 - Preserve name from an Index\u001b[39;00m\n",
            "File \u001b[0;32m/opt/conda/lib/python3.10/site-packages/pandas/core/indexes/base.py:6249\u001b[0m, in \u001b[0;36mIndex._raise_if_missing\u001b[0;34m(self, key, indexer, axis_name)\u001b[0m\n\u001b[1;32m   6247\u001b[0m \u001b[38;5;28;01mif\u001b[39;00m nmissing:\n\u001b[1;32m   6248\u001b[0m     \u001b[38;5;28;01mif\u001b[39;00m nmissing \u001b[38;5;241m==\u001b[39m \u001b[38;5;28mlen\u001b[39m(indexer):\n\u001b[0;32m-> 6249\u001b[0m         \u001b[38;5;28;01mraise\u001b[39;00m \u001b[38;5;167;01mKeyError\u001b[39;00m(\u001b[38;5;124mf\u001b[39m\u001b[38;5;124m\"\u001b[39m\u001b[38;5;124mNone of [\u001b[39m\u001b[38;5;132;01m{\u001b[39;00mkey\u001b[38;5;132;01m}\u001b[39;00m\u001b[38;5;124m] are in the [\u001b[39m\u001b[38;5;132;01m{\u001b[39;00maxis_name\u001b[38;5;132;01m}\u001b[39;00m\u001b[38;5;124m]\u001b[39m\u001b[38;5;124m\"\u001b[39m)\n\u001b[1;32m   6251\u001b[0m     not_found \u001b[38;5;241m=\u001b[39m \u001b[38;5;28mlist\u001b[39m(ensure_index(key)[missing_mask\u001b[38;5;241m.\u001b[39mnonzero()[\u001b[38;5;241m0\u001b[39m]]\u001b[38;5;241m.\u001b[39munique())\n\u001b[1;32m   6252\u001b[0m     \u001b[38;5;28;01mraise\u001b[39;00m \u001b[38;5;167;01mKeyError\u001b[39;00m(\u001b[38;5;124mf\u001b[39m\u001b[38;5;124m\"\u001b[39m\u001b[38;5;132;01m{\u001b[39;00mnot_found\u001b[38;5;132;01m}\u001b[39;00m\u001b[38;5;124m not in index\u001b[39m\u001b[38;5;124m\"\u001b[39m)\n",
            "\u001b[0;31mKeyError\u001b[0m: \"None of [Index(['Geography', 'Gender'], dtype='object')] are in the [columns]\""
          ],
          "ename": "KeyError",
          "evalue": "\"None of [Index(['Geography', 'Gender'], dtype='object')] are in the [columns]\"",
          "output_type": "error"
        }
      ]
    },
    {
      "cell_type": "code",
      "source": [
        "dummy_df"
      ],
      "metadata": {
        "execution": {
          "iopub.status.busy": "2024-04-08T11:12:12.662898Z",
          "iopub.execute_input": "2024-04-08T11:12:12.663795Z",
          "iopub.status.idle": "2024-04-08T11:12:12.679275Z",
          "shell.execute_reply.started": "2024-04-08T11:12:12.663745Z",
          "shell.execute_reply": "2024-04-08T11:12:12.67754Z"
        },
        "trusted": true,
        "id": "Gh7cZWX8o2Bu",
        "outputId": "6d50d084-6226-444d-beb2-92293632a589"
      },
      "execution_count": null,
      "outputs": [
        {
          "execution_count": 98,
          "output_type": "execute_result",
          "data": {
            "text/plain": "      Geography_Germany  Geography_Spain  Gender_Male\n0                     0                0            0\n1                     0                1            0\n2                     0                0            0\n3                     0                0            0\n4                     0                1            0\n...                 ...              ...          ...\n9995                  0                0            1\n9996                  0                0            1\n9997                  0                0            0\n9998                  1                0            1\n9999                  0                0            0\n\n[10000 rows x 3 columns]",
            "text/html": "<div>\n<style scoped>\n    .dataframe tbody tr th:only-of-type {\n        vertical-align: middle;\n    }\n\n    .dataframe tbody tr th {\n        vertical-align: top;\n    }\n\n    .dataframe thead th {\n        text-align: right;\n    }\n</style>\n<table border=\"1\" class=\"dataframe\">\n  <thead>\n    <tr style=\"text-align: right;\">\n      <th></th>\n      <th>Geography_Germany</th>\n      <th>Geography_Spain</th>\n      <th>Gender_Male</th>\n    </tr>\n  </thead>\n  <tbody>\n    <tr>\n      <th>0</th>\n      <td>0</td>\n      <td>0</td>\n      <td>0</td>\n    </tr>\n    <tr>\n      <th>1</th>\n      <td>0</td>\n      <td>1</td>\n      <td>0</td>\n    </tr>\n    <tr>\n      <th>2</th>\n      <td>0</td>\n      <td>0</td>\n      <td>0</td>\n    </tr>\n    <tr>\n      <th>3</th>\n      <td>0</td>\n      <td>0</td>\n      <td>0</td>\n    </tr>\n    <tr>\n      <th>4</th>\n      <td>0</td>\n      <td>1</td>\n      <td>0</td>\n    </tr>\n    <tr>\n      <th>...</th>\n      <td>...</td>\n      <td>...</td>\n      <td>...</td>\n    </tr>\n    <tr>\n      <th>9995</th>\n      <td>0</td>\n      <td>0</td>\n      <td>1</td>\n    </tr>\n    <tr>\n      <th>9996</th>\n      <td>0</td>\n      <td>0</td>\n      <td>1</td>\n    </tr>\n    <tr>\n      <th>9997</th>\n      <td>0</td>\n      <td>0</td>\n      <td>0</td>\n    </tr>\n    <tr>\n      <th>9998</th>\n      <td>1</td>\n      <td>0</td>\n      <td>1</td>\n    </tr>\n    <tr>\n      <th>9999</th>\n      <td>0</td>\n      <td>0</td>\n      <td>0</td>\n    </tr>\n  </tbody>\n</table>\n<p>10000 rows × 3 columns</p>\n</div>"
          },
          "metadata": {}
        }
      ]
    },
    {
      "cell_type": "code",
      "source": [
        "df.info()"
      ],
      "metadata": {
        "execution": {
          "iopub.status.busy": "2024-04-08T11:12:23.926369Z",
          "iopub.execute_input": "2024-04-08T11:12:23.926772Z",
          "iopub.status.idle": "2024-04-08T11:12:23.941148Z",
          "shell.execute_reply.started": "2024-04-08T11:12:23.926742Z",
          "shell.execute_reply": "2024-04-08T11:12:23.939688Z"
        },
        "trusted": true,
        "id": "ziBN_XKoo2Bv",
        "outputId": "9e7b30bb-a4bc-48b4-ea93-36bc7a83061d"
      },
      "execution_count": null,
      "outputs": [
        {
          "name": "stdout",
          "text": "<class 'pandas.core.frame.DataFrame'>\nRangeIndex: 10000 entries, 0 to 9999\nData columns (total 12 columns):\n #   Column             Non-Null Count  Dtype  \n---  ------             --------------  -----  \n 0   CreditScore        10000 non-null  int64  \n 1   Age                10000 non-null  int64  \n 2   Tenure             10000 non-null  int64  \n 3   Balance            10000 non-null  float64\n 4   NumOfProducts      10000 non-null  int64  \n 5   HasCrCard          10000 non-null  int64  \n 6   IsActiveMember     10000 non-null  int64  \n 7   EstimatedSalary    10000 non-null  float64\n 8   Exited             10000 non-null  int64  \n 9   Geography_Germany  10000 non-null  int64  \n 10  Geography_Spain    10000 non-null  int64  \n 11  Gender_Male        10000 non-null  int64  \ndtypes: float64(2), int64(10)\nmemory usage: 937.6 KB\n",
          "output_type": "stream"
        }
      ]
    },
    {
      "cell_type": "code",
      "source": [
        "df"
      ],
      "metadata": {
        "execution": {
          "iopub.status.busy": "2024-04-08T11:25:52.006559Z",
          "iopub.execute_input": "2024-04-08T11:25:52.007046Z",
          "iopub.status.idle": "2024-04-08T11:25:52.025097Z",
          "shell.execute_reply.started": "2024-04-08T11:25:52.00701Z",
          "shell.execute_reply": "2024-04-08T11:25:52.024282Z"
        },
        "trusted": true,
        "id": "KUlNasqyo2Bw",
        "outputId": "6b12eb5c-57ba-4c0d-86b3-00083444bbfd"
      },
      "execution_count": null,
      "outputs": [
        {
          "execution_count": 105,
          "output_type": "execute_result",
          "data": {
            "text/plain": "      CreditScore  Age  Tenure    Balance  NumOfProducts  HasCrCard  \\\n0             619   42       2       0.00              1          1   \n1             608   41       1   83807.86              1          0   \n2             502   42       8  159660.80              3          1   \n3             699   39       1       0.00              2          0   \n4             850   43       2  125510.82              1          1   \n...           ...  ...     ...        ...            ...        ...   \n9995          771   39       5       0.00              2          1   \n9996          516   35      10   57369.61              1          1   \n9997          709   36       7       0.00              1          0   \n9998          772   42       3   75075.31              2          1   \n9999          792   28       4  130142.79              1          1   \n\n      IsActiveMember  EstimatedSalary  Exited  Geography_Germany  \\\n0                  1        101348.88       1                  0   \n1                  1        112542.58       0                  0   \n2                  0        113931.57       1                  0   \n3                  0         93826.63       0                  0   \n4                  1         79084.10       0                  0   \n...              ...              ...     ...                ...   \n9995               0         96270.64       0                  0   \n9996               1        101699.77       0                  0   \n9997               1         42085.58       1                  0   \n9998               0         92888.52       1                  1   \n9999               0         38190.78       0                  0   \n\n      Geography_Spain  Gender_Male  \n0                   0            0  \n1                   1            0  \n2                   0            0  \n3                   0            0  \n4                   1            0  \n...               ...          ...  \n9995                0            1  \n9996                0            1  \n9997                0            0  \n9998                0            1  \n9999                0            0  \n\n[10000 rows x 12 columns]",
            "text/html": "<div>\n<style scoped>\n    .dataframe tbody tr th:only-of-type {\n        vertical-align: middle;\n    }\n\n    .dataframe tbody tr th {\n        vertical-align: top;\n    }\n\n    .dataframe thead th {\n        text-align: right;\n    }\n</style>\n<table border=\"1\" class=\"dataframe\">\n  <thead>\n    <tr style=\"text-align: right;\">\n      <th></th>\n      <th>CreditScore</th>\n      <th>Age</th>\n      <th>Tenure</th>\n      <th>Balance</th>\n      <th>NumOfProducts</th>\n      <th>HasCrCard</th>\n      <th>IsActiveMember</th>\n      <th>EstimatedSalary</th>\n      <th>Exited</th>\n      <th>Geography_Germany</th>\n      <th>Geography_Spain</th>\n      <th>Gender_Male</th>\n    </tr>\n  </thead>\n  <tbody>\n    <tr>\n      <th>0</th>\n      <td>619</td>\n      <td>42</td>\n      <td>2</td>\n      <td>0.00</td>\n      <td>1</td>\n      <td>1</td>\n      <td>1</td>\n      <td>101348.88</td>\n      <td>1</td>\n      <td>0</td>\n      <td>0</td>\n      <td>0</td>\n    </tr>\n    <tr>\n      <th>1</th>\n      <td>608</td>\n      <td>41</td>\n      <td>1</td>\n      <td>83807.86</td>\n      <td>1</td>\n      <td>0</td>\n      <td>1</td>\n      <td>112542.58</td>\n      <td>0</td>\n      <td>0</td>\n      <td>1</td>\n      <td>0</td>\n    </tr>\n    <tr>\n      <th>2</th>\n      <td>502</td>\n      <td>42</td>\n      <td>8</td>\n      <td>159660.80</td>\n      <td>3</td>\n      <td>1</td>\n      <td>0</td>\n      <td>113931.57</td>\n      <td>1</td>\n      <td>0</td>\n      <td>0</td>\n      <td>0</td>\n    </tr>\n    <tr>\n      <th>3</th>\n      <td>699</td>\n      <td>39</td>\n      <td>1</td>\n      <td>0.00</td>\n      <td>2</td>\n      <td>0</td>\n      <td>0</td>\n      <td>93826.63</td>\n      <td>0</td>\n      <td>0</td>\n      <td>0</td>\n      <td>0</td>\n    </tr>\n    <tr>\n      <th>4</th>\n      <td>850</td>\n      <td>43</td>\n      <td>2</td>\n      <td>125510.82</td>\n      <td>1</td>\n      <td>1</td>\n      <td>1</td>\n      <td>79084.10</td>\n      <td>0</td>\n      <td>0</td>\n      <td>1</td>\n      <td>0</td>\n    </tr>\n    <tr>\n      <th>...</th>\n      <td>...</td>\n      <td>...</td>\n      <td>...</td>\n      <td>...</td>\n      <td>...</td>\n      <td>...</td>\n      <td>...</td>\n      <td>...</td>\n      <td>...</td>\n      <td>...</td>\n      <td>...</td>\n      <td>...</td>\n    </tr>\n    <tr>\n      <th>9995</th>\n      <td>771</td>\n      <td>39</td>\n      <td>5</td>\n      <td>0.00</td>\n      <td>2</td>\n      <td>1</td>\n      <td>0</td>\n      <td>96270.64</td>\n      <td>0</td>\n      <td>0</td>\n      <td>0</td>\n      <td>1</td>\n    </tr>\n    <tr>\n      <th>9996</th>\n      <td>516</td>\n      <td>35</td>\n      <td>10</td>\n      <td>57369.61</td>\n      <td>1</td>\n      <td>1</td>\n      <td>1</td>\n      <td>101699.77</td>\n      <td>0</td>\n      <td>0</td>\n      <td>0</td>\n      <td>1</td>\n    </tr>\n    <tr>\n      <th>9997</th>\n      <td>709</td>\n      <td>36</td>\n      <td>7</td>\n      <td>0.00</td>\n      <td>1</td>\n      <td>0</td>\n      <td>1</td>\n      <td>42085.58</td>\n      <td>1</td>\n      <td>0</td>\n      <td>0</td>\n      <td>0</td>\n    </tr>\n    <tr>\n      <th>9998</th>\n      <td>772</td>\n      <td>42</td>\n      <td>3</td>\n      <td>75075.31</td>\n      <td>2</td>\n      <td>1</td>\n      <td>0</td>\n      <td>92888.52</td>\n      <td>1</td>\n      <td>1</td>\n      <td>0</td>\n      <td>1</td>\n    </tr>\n    <tr>\n      <th>9999</th>\n      <td>792</td>\n      <td>28</td>\n      <td>4</td>\n      <td>130142.79</td>\n      <td>1</td>\n      <td>1</td>\n      <td>0</td>\n      <td>38190.78</td>\n      <td>0</td>\n      <td>0</td>\n      <td>0</td>\n      <td>0</td>\n    </tr>\n  </tbody>\n</table>\n<p>10000 rows × 12 columns</p>\n</div>"
          },
          "metadata": {}
        }
      ]
    },
    {
      "cell_type": "code",
      "source": [
        "from sklearn.model_selection import train_test_split\n",
        "x = df.drop(columns='Exited')\n",
        "y = df.Exited\n",
        "x_train,x_test,y_train,y_test = train_test_split(x,y,test_size=0.2,random_state=1)"
      ],
      "metadata": {
        "execution": {
          "iopub.status.busy": "2024-04-08T11:26:12.876751Z",
          "iopub.execute_input": "2024-04-08T11:26:12.877199Z",
          "iopub.status.idle": "2024-04-08T11:26:12.88708Z",
          "shell.execute_reply.started": "2024-04-08T11:26:12.87716Z",
          "shell.execute_reply": "2024-04-08T11:26:12.886005Z"
        },
        "trusted": true,
        "id": "b0H3Uedro2Bx"
      },
      "execution_count": null,
      "outputs": []
    },
    {
      "cell_type": "code",
      "source": [
        "x_train.shape"
      ],
      "metadata": {
        "execution": {
          "iopub.status.busy": "2024-04-08T11:26:15.846243Z",
          "iopub.execute_input": "2024-04-08T11:26:15.84662Z",
          "iopub.status.idle": "2024-04-08T11:26:15.853426Z",
          "shell.execute_reply.started": "2024-04-08T11:26:15.846591Z",
          "shell.execute_reply": "2024-04-08T11:26:15.852312Z"
        },
        "trusted": true,
        "id": "Oex6qxtfo2Bx",
        "outputId": "6997763b-f0c4-4696-b621-9300cf71ad36"
      },
      "execution_count": null,
      "outputs": [
        {
          "execution_count": 107,
          "output_type": "execute_result",
          "data": {
            "text/plain": "(8000, 11)"
          },
          "metadata": {}
        }
      ]
    },
    {
      "cell_type": "code",
      "source": [
        "from sklearn.preprocessing import StandardScaler\n",
        "sc = StandardScaler()\n",
        "\n",
        "x_train_scaled = sc.fit_transform(x_train)\n",
        "x_test_scaled = sc.fit_transform(x_test)"
      ],
      "metadata": {
        "execution": {
          "iopub.status.busy": "2024-04-08T11:28:48.065907Z",
          "iopub.execute_input": "2024-04-08T11:28:48.066299Z",
          "iopub.status.idle": "2024-04-08T11:28:48.080383Z",
          "shell.execute_reply.started": "2024-04-08T11:28:48.066269Z",
          "shell.execute_reply": "2024-04-08T11:28:48.079371Z"
        },
        "trusted": true,
        "id": "mCSt4njho2By"
      },
      "execution_count": null,
      "outputs": []
    },
    {
      "cell_type": "code",
      "source": [
        "x_train_scaled"
      ],
      "metadata": {
        "execution": {
          "iopub.status.busy": "2024-04-08T11:28:50.595662Z",
          "iopub.execute_input": "2024-04-08T11:28:50.596224Z",
          "iopub.status.idle": "2024-04-08T11:28:50.605361Z",
          "shell.execute_reply.started": "2024-04-08T11:28:50.596185Z",
          "shell.execute_reply": "2024-04-08T11:28:50.604208Z"
        },
        "trusted": true,
        "id": "-FB7TXRao2By",
        "outputId": "69a3720d-7600-45d3-b8cf-218b9f6c3a7f"
      },
      "execution_count": null,
      "outputs": [
        {
          "execution_count": 112,
          "output_type": "execute_result",
          "data": {
            "text/plain": "array([[-0.23082038, -0.94449979, -0.70174202, ...,  1.71490137,\n        -0.57273139,  0.91509065],\n       [-0.25150912, -0.94449979, -0.35520275, ..., -0.58312392,\n        -0.57273139, -1.09278791],\n       [-0.3963303 ,  0.77498705,  0.33787579, ...,  1.71490137,\n        -0.57273139, -1.09278791],\n       ...,\n       [ 0.22433188,  0.58393295,  1.3774936 , ..., -0.58312392,\n        -0.57273139, -1.09278791],\n       [ 0.13123255,  0.01077067,  1.03095433, ..., -0.58312392,\n        -0.57273139, -1.09278791],\n       [ 1.1656695 ,  0.29735181,  0.33787579, ...,  1.71490137,\n        -0.57273139,  0.91509065]])"
          },
          "metadata": {}
        }
      ]
    },
    {
      "cell_type": "code",
      "source": [
        "import tensorflow\n",
        "from tensorflow import keras\n",
        "from tensorflow.keras import Sequential\n",
        "from tensorflow.keras.layers import Dense"
      ],
      "metadata": {
        "execution": {
          "iopub.status.busy": "2024-04-08T11:30:52.637028Z",
          "iopub.execute_input": "2024-04-08T11:30:52.637533Z",
          "iopub.status.idle": "2024-04-08T11:31:10.638663Z",
          "shell.execute_reply.started": "2024-04-08T11:30:52.6375Z",
          "shell.execute_reply": "2024-04-08T11:31:10.637276Z"
        },
        "trusted": true,
        "id": "DwVGmFKzo2Bz",
        "outputId": "db5685df-0624-4211-9acf-6ee9302ba1e6"
      },
      "execution_count": null,
      "outputs": [
        {
          "name": "stderr",
          "text": "2024-04-08 11:30:55.694369: E external/local_xla/xla/stream_executor/cuda/cuda_dnn.cc:9261] Unable to register cuDNN factory: Attempting to register factory for plugin cuDNN when one has already been registered\n2024-04-08 11:30:55.694518: E external/local_xla/xla/stream_executor/cuda/cuda_fft.cc:607] Unable to register cuFFT factory: Attempting to register factory for plugin cuFFT when one has already been registered\n2024-04-08 11:30:55.907905: E external/local_xla/xla/stream_executor/cuda/cuda_blas.cc:1515] Unable to register cuBLAS factory: Attempting to register factory for plugin cuBLAS when one has already been registered\n",
          "output_type": "stream"
        }
      ]
    },
    {
      "cell_type": "code",
      "source": [
        "# There are two types of models in tensorflow\n",
        "# 1. Sequential , 2. Non-Sequential.\n",
        "model = Sequential()\n",
        "\n",
        "# model.add(Dense(3,activation='sigmoid',input_dim=11))\n",
        "# #3 = hidden layer nodes,input_dim = how many inputs are there(our data have 11 columns,so 11...)\n",
        "# model.add(Dense(1,activation='sigmoid'))\n",
        "# #1 = One output node.\n",
        "\n",
        "#------------------ after hyperparameter tuning --------------\n",
        "model.add(Dense(11,activation='relu',input_dim=11))\n",
        "model.add(Dense(11,activation='relu'))\n",
        "model.add(Dense(1,activation='sigmoid'))\n",
        "\n",
        "# In above changes i have changed - 3 nodes to 11 nodes, and have added one more hidden layer and changed activation function\n",
        "\n",
        "\n"
      ],
      "metadata": {
        "execution": {
          "iopub.status.busy": "2024-04-08T12:11:38.151754Z",
          "iopub.execute_input": "2024-04-08T12:11:38.152597Z",
          "iopub.status.idle": "2024-04-08T12:11:38.194144Z",
          "shell.execute_reply.started": "2024-04-08T12:11:38.152554Z",
          "shell.execute_reply": "2024-04-08T12:11:38.193032Z"
        },
        "trusted": true,
        "id": "mzPlYp72o2B0",
        "outputId": "41140777-2521-4cab-9b67-e2695a87db58"
      },
      "execution_count": null,
      "outputs": [
        {
          "name": "stderr",
          "text": "/opt/conda/lib/python3.10/site-packages/keras/src/layers/core/dense.py:85: UserWarning: Do not pass an `input_shape`/`input_dim` argument to a layer. When using Sequential models, prefer using an `Input(shape)` object as the first layer in the model instead.\n  super().__init__(activity_regularizer=activity_regularizer, **kwargs)\n",
          "output_type": "stream"
        }
      ]
    },
    {
      "cell_type": "code",
      "source": [
        "model.summary()"
      ],
      "metadata": {
        "execution": {
          "iopub.status.busy": "2024-04-08T12:11:39.816156Z",
          "iopub.execute_input": "2024-04-08T12:11:39.816576Z",
          "iopub.status.idle": "2024-04-08T12:11:39.838606Z",
          "shell.execute_reply.started": "2024-04-08T12:11:39.816542Z",
          "shell.execute_reply": "2024-04-08T12:11:39.837562Z"
        },
        "trusted": true,
        "id": "XFPF2nkko2B0",
        "outputId": "98da2764-18ee-40bf-d873-9cc17a705dcc"
      },
      "execution_count": null,
      "outputs": [
        {
          "output_type": "display_data",
          "data": {
            "text/plain": "\u001b[1mModel: \"sequential_3\"\u001b[0m\n",
            "text/html": "<pre style=\"white-space:pre;overflow-x:auto;line-height:normal;font-family:Menlo,'DejaVu Sans Mono',consolas,'Courier New',monospace\"><span style=\"font-weight: bold\">Model: \"sequential_3\"</span>\n</pre>\n"
          },
          "metadata": {}
        },
        {
          "output_type": "display_data",
          "data": {
            "text/plain": "┏━━━━━━━━━━━━━━━━━━━━━━━━━━━━━━━━━┳━━━━━━━━━━━━━━━━━━━━━━━━┳━━━━━━━━━━━━━━━┓\n┃\u001b[1m \u001b[0m\u001b[1mLayer (type)                   \u001b[0m\u001b[1m \u001b[0m┃\u001b[1m \u001b[0m\u001b[1mOutput Shape          \u001b[0m\u001b[1m \u001b[0m┃\u001b[1m \u001b[0m\u001b[1m      Param #\u001b[0m\u001b[1m \u001b[0m┃\n┡━━━━━━━━━━━━━━━━━━━━━━━━━━━━━━━━━╇━━━━━━━━━━━━━━━━━━━━━━━━╇━━━━━━━━━━━━━━━┩\n│ dense_5 (\u001b[38;5;33mDense\u001b[0m)                 │ (\u001b[38;5;45mNone\u001b[0m, \u001b[38;5;34m11\u001b[0m)             │           \u001b[38;5;34m132\u001b[0m │\n├─────────────────────────────────┼────────────────────────┼───────────────┤\n│ dense_6 (\u001b[38;5;33mDense\u001b[0m)                 │ (\u001b[38;5;45mNone\u001b[0m, \u001b[38;5;34m11\u001b[0m)             │           \u001b[38;5;34m132\u001b[0m │\n├─────────────────────────────────┼────────────────────────┼───────────────┤\n│ dense_7 (\u001b[38;5;33mDense\u001b[0m)                 │ (\u001b[38;5;45mNone\u001b[0m, \u001b[38;5;34m1\u001b[0m)              │            \u001b[38;5;34m12\u001b[0m │\n└─────────────────────────────────┴────────────────────────┴───────────────┘\n",
            "text/html": "<pre style=\"white-space:pre;overflow-x:auto;line-height:normal;font-family:Menlo,'DejaVu Sans Mono',consolas,'Courier New',monospace\">┏━━━━━━━━━━━━━━━━━━━━━━━━━━━━━━━━━┳━━━━━━━━━━━━━━━━━━━━━━━━┳━━━━━━━━━━━━━━━┓\n┃<span style=\"font-weight: bold\"> Layer (type)                    </span>┃<span style=\"font-weight: bold\"> Output Shape           </span>┃<span style=\"font-weight: bold\">       Param # </span>┃\n┡━━━━━━━━━━━━━━━━━━━━━━━━━━━━━━━━━╇━━━━━━━━━━━━━━━━━━━━━━━━╇━━━━━━━━━━━━━━━┩\n│ dense_5 (<span style=\"color: #0087ff; text-decoration-color: #0087ff\">Dense</span>)                 │ (<span style=\"color: #00d7ff; text-decoration-color: #00d7ff\">None</span>, <span style=\"color: #00af00; text-decoration-color: #00af00\">11</span>)             │           <span style=\"color: #00af00; text-decoration-color: #00af00\">132</span> │\n├─────────────────────────────────┼────────────────────────┼───────────────┤\n│ dense_6 (<span style=\"color: #0087ff; text-decoration-color: #0087ff\">Dense</span>)                 │ (<span style=\"color: #00d7ff; text-decoration-color: #00d7ff\">None</span>, <span style=\"color: #00af00; text-decoration-color: #00af00\">11</span>)             │           <span style=\"color: #00af00; text-decoration-color: #00af00\">132</span> │\n├─────────────────────────────────┼────────────────────────┼───────────────┤\n│ dense_7 (<span style=\"color: #0087ff; text-decoration-color: #0087ff\">Dense</span>)                 │ (<span style=\"color: #00d7ff; text-decoration-color: #00d7ff\">None</span>, <span style=\"color: #00af00; text-decoration-color: #00af00\">1</span>)              │            <span style=\"color: #00af00; text-decoration-color: #00af00\">12</span> │\n└─────────────────────────────────┴────────────────────────┴───────────────┘\n</pre>\n"
          },
          "metadata": {}
        },
        {
          "output_type": "display_data",
          "data": {
            "text/plain": "\u001b[1m Total params: \u001b[0m\u001b[38;5;34m276\u001b[0m (1.08 KB)\n",
            "text/html": "<pre style=\"white-space:pre;overflow-x:auto;line-height:normal;font-family:Menlo,'DejaVu Sans Mono',consolas,'Courier New',monospace\"><span style=\"font-weight: bold\"> Total params: </span><span style=\"color: #00af00; text-decoration-color: #00af00\">276</span> (1.08 KB)\n</pre>\n"
          },
          "metadata": {}
        },
        {
          "output_type": "display_data",
          "data": {
            "text/plain": "\u001b[1m Trainable params: \u001b[0m\u001b[38;5;34m276\u001b[0m (1.08 KB)\n",
            "text/html": "<pre style=\"white-space:pre;overflow-x:auto;line-height:normal;font-family:Menlo,'DejaVu Sans Mono',consolas,'Courier New',monospace\"><span style=\"font-weight: bold\"> Trainable params: </span><span style=\"color: #00af00; text-decoration-color: #00af00\">276</span> (1.08 KB)\n</pre>\n"
          },
          "metadata": {}
        },
        {
          "output_type": "display_data",
          "data": {
            "text/plain": "\u001b[1m Non-trainable params: \u001b[0m\u001b[38;5;34m0\u001b[0m (0.00 B)\n",
            "text/html": "<pre style=\"white-space:pre;overflow-x:auto;line-height:normal;font-family:Menlo,'DejaVu Sans Mono',consolas,'Courier New',monospace\"><span style=\"font-weight: bold\"> Non-trainable params: </span><span style=\"color: #00af00; text-decoration-color: #00af00\">0</span> (0.00 B)\n</pre>\n"
          },
          "metadata": {}
        }
      ]
    },
    {
      "cell_type": "code",
      "source": [
        "model.compile(loss='binary_crossentropy',optimizer='Adam',metrics = ['accuracy'])\n",
        "# 1. Loss = loss function. we've used binary_crossoptimizer(log_loss)\n",
        "#because we have a binary classification problem.\n",
        "# 2. Optimizer = optimizer for gradient descent( Adam- performs well).\n",
        "# 3. metrics = simultaneously shows accuracy also."
      ],
      "metadata": {
        "execution": {
          "iopub.status.busy": "2024-04-08T12:11:42.046229Z",
          "iopub.execute_input": "2024-04-08T12:11:42.046635Z",
          "iopub.status.idle": "2024-04-08T12:11:42.056775Z",
          "shell.execute_reply.started": "2024-04-08T12:11:42.046603Z",
          "shell.execute_reply": "2024-04-08T12:11:42.055559Z"
        },
        "trusted": true,
        "id": "aPSg7adwo2B1"
      },
      "execution_count": null,
      "outputs": []
    },
    {
      "cell_type": "code",
      "source": [
        "history = model.fit(x_train_scaled,y_train,epochs=100, validation_split = 0.2)\n",
        "# Validation_split = model takes out 20% of data from 8000 data and will check. Model will run on 8000-20% data and on side\n",
        "# and will test how their reslut is coming"
      ],
      "metadata": {
        "execution": {
          "iopub.status.busy": "2024-04-08T12:11:44.031279Z",
          "iopub.execute_input": "2024-04-08T12:11:44.031705Z",
          "iopub.status.idle": "2024-04-08T12:12:35.523426Z",
          "shell.execute_reply.started": "2024-04-08T12:11:44.031672Z",
          "shell.execute_reply": "2024-04-08T12:12:35.522324Z"
        },
        "trusted": true,
        "id": "8YIy8cD0o2B1",
        "outputId": "caf1a554-302a-42f5-8afe-8daf14640933"
      },
      "execution_count": null,
      "outputs": [
        {
          "name": "stdout",
          "text": "Epoch 1/100\n\u001b[1m200/200\u001b[0m \u001b[32m━━━━━━━━━━━━━━━━━━━━\u001b[0m\u001b[37m\u001b[0m \u001b[1m2s\u001b[0m 2ms/step - accuracy: 0.4216 - loss: 0.8605 - val_accuracy: 0.7950 - val_loss: 0.5123\nEpoch 2/100\n\u001b[1m200/200\u001b[0m \u001b[32m━━━━━━━━━━━━━━━━━━━━\u001b[0m\u001b[37m\u001b[0m \u001b[1m0s\u001b[0m 2ms/step - accuracy: 0.8126 - loss: 0.4769 - val_accuracy: 0.8069 - val_loss: 0.4488\nEpoch 3/100\n\u001b[1m200/200\u001b[0m \u001b[32m━━━━━━━━━━━━━━━━━━━━\u001b[0m\u001b[37m\u001b[0m \u001b[1m1s\u001b[0m 2ms/step - accuracy: 0.8038 - loss: 0.4520 - val_accuracy: 0.8069 - val_loss: 0.4318\nEpoch 4/100\n\u001b[1m200/200\u001b[0m \u001b[32m━━━━━━━━━━━━━━━━━━━━\u001b[0m\u001b[37m\u001b[0m \u001b[1m0s\u001b[0m 2ms/step - accuracy: 0.8162 - loss: 0.4265 - val_accuracy: 0.8150 - val_loss: 0.4224\nEpoch 5/100\n\u001b[1m200/200\u001b[0m \u001b[32m━━━━━━━━━━━━━━━━━━━━\u001b[0m\u001b[37m\u001b[0m \u001b[1m0s\u001b[0m 2ms/step - accuracy: 0.8151 - loss: 0.4251 - val_accuracy: 0.8213 - val_loss: 0.4119\nEpoch 6/100\n\u001b[1m200/200\u001b[0m \u001b[32m━━━━━━━━━━━━━━━━━━━━\u001b[0m\u001b[37m\u001b[0m \u001b[1m1s\u001b[0m 2ms/step - accuracy: 0.8249 - loss: 0.4115 - val_accuracy: 0.8244 - val_loss: 0.3986\nEpoch 7/100\n\u001b[1m200/200\u001b[0m \u001b[32m━━━━━━━━━━━━━━━━━━━━\u001b[0m\u001b[37m\u001b[0m \u001b[1m1s\u001b[0m 2ms/step - accuracy: 0.8386 - loss: 0.3954 - val_accuracy: 0.8406 - val_loss: 0.3855\nEpoch 8/100\n\u001b[1m200/200\u001b[0m \u001b[32m━━━━━━━━━━━━━━━━━━━━\u001b[0m\u001b[37m\u001b[0m \u001b[1m1s\u001b[0m 2ms/step - accuracy: 0.8521 - loss: 0.3677 - val_accuracy: 0.8406 - val_loss: 0.3724\nEpoch 9/100\n\u001b[1m200/200\u001b[0m \u001b[32m━━━━━━━━━━━━━━━━━━━━\u001b[0m\u001b[37m\u001b[0m \u001b[1m1s\u001b[0m 2ms/step - accuracy: 0.8474 - loss: 0.3702 - val_accuracy: 0.8444 - val_loss: 0.3638\nEpoch 10/100\n\u001b[1m200/200\u001b[0m \u001b[32m━━━━━━━━━━━━━━━━━━━━\u001b[0m\u001b[37m\u001b[0m \u001b[1m0s\u001b[0m 2ms/step - accuracy: 0.8496 - loss: 0.3652 - val_accuracy: 0.8481 - val_loss: 0.3576\nEpoch 11/100\n\u001b[1m200/200\u001b[0m \u001b[32m━━━━━━━━━━━━━━━━━━━━\u001b[0m\u001b[37m\u001b[0m \u001b[1m0s\u001b[0m 2ms/step - accuracy: 0.8540 - loss: 0.3518 - val_accuracy: 0.8481 - val_loss: 0.3530\nEpoch 12/100\n\u001b[1m200/200\u001b[0m \u001b[32m━━━━━━━━━━━━━━━━━━━━\u001b[0m\u001b[37m\u001b[0m \u001b[1m0s\u001b[0m 2ms/step - accuracy: 0.8551 - loss: 0.3507 - val_accuracy: 0.8512 - val_loss: 0.3513\nEpoch 13/100\n\u001b[1m200/200\u001b[0m \u001b[32m━━━━━━━━━━━━━━━━━━━━\u001b[0m\u001b[37m\u001b[0m \u001b[1m1s\u001b[0m 2ms/step - accuracy: 0.8559 - loss: 0.3532 - val_accuracy: 0.8500 - val_loss: 0.3510\nEpoch 14/100\n\u001b[1m200/200\u001b[0m \u001b[32m━━━━━━━━━━━━━━━━━━━━\u001b[0m\u001b[37m\u001b[0m \u001b[1m0s\u001b[0m 2ms/step - accuracy: 0.8586 - loss: 0.3402 - val_accuracy: 0.8481 - val_loss: 0.3484\nEpoch 15/100\n\u001b[1m200/200\u001b[0m \u001b[32m━━━━━━━━━━━━━━━━━━━━\u001b[0m\u001b[37m\u001b[0m \u001b[1m0s\u001b[0m 2ms/step - accuracy: 0.8597 - loss: 0.3399 - val_accuracy: 0.8512 - val_loss: 0.3484\nEpoch 16/100\n\u001b[1m200/200\u001b[0m \u001b[32m━━━━━━━━━━━━━━━━━━━━\u001b[0m\u001b[37m\u001b[0m \u001b[1m1s\u001b[0m 2ms/step - accuracy: 0.8541 - loss: 0.3505 - val_accuracy: 0.8500 - val_loss: 0.3474\nEpoch 17/100\n\u001b[1m200/200\u001b[0m \u001b[32m━━━━━━━━━━━━━━━━━━━━\u001b[0m\u001b[37m\u001b[0m \u001b[1m1s\u001b[0m 2ms/step - accuracy: 0.8601 - loss: 0.3372 - val_accuracy: 0.8500 - val_loss: 0.3479\nEpoch 18/100\n\u001b[1m200/200\u001b[0m \u001b[32m━━━━━━━━━━━━━━━━━━━━\u001b[0m\u001b[37m\u001b[0m \u001b[1m1s\u001b[0m 2ms/step - accuracy: 0.8540 - loss: 0.3505 - val_accuracy: 0.8512 - val_loss: 0.3478\nEpoch 19/100\n\u001b[1m200/200\u001b[0m \u001b[32m━━━━━━━━━━━━━━━━━━━━\u001b[0m\u001b[37m\u001b[0m \u001b[1m1s\u001b[0m 2ms/step - accuracy: 0.8605 - loss: 0.3397 - val_accuracy: 0.8500 - val_loss: 0.3470\nEpoch 20/100\n\u001b[1m200/200\u001b[0m \u001b[32m━━━━━━━━━━━━━━━━━━━━\u001b[0m\u001b[37m\u001b[0m \u001b[1m0s\u001b[0m 2ms/step - accuracy: 0.8562 - loss: 0.3483 - val_accuracy: 0.8550 - val_loss: 0.3483\nEpoch 21/100\n\u001b[1m200/200\u001b[0m \u001b[32m━━━━━━━━━━━━━━━━━━━━\u001b[0m\u001b[37m\u001b[0m \u001b[1m0s\u001b[0m 2ms/step - accuracy: 0.8592 - loss: 0.3431 - val_accuracy: 0.8550 - val_loss: 0.3482\nEpoch 22/100\n\u001b[1m200/200\u001b[0m \u001b[32m━━━━━━━━━━━━━━━━━━━━\u001b[0m\u001b[37m\u001b[0m \u001b[1m1s\u001b[0m 2ms/step - accuracy: 0.8645 - loss: 0.3319 - val_accuracy: 0.8537 - val_loss: 0.3485\nEpoch 23/100\n\u001b[1m200/200\u001b[0m \u001b[32m━━━━━━━━━━━━━━━━━━━━\u001b[0m\u001b[37m\u001b[0m \u001b[1m0s\u001b[0m 2ms/step - accuracy: 0.8601 - loss: 0.3360 - val_accuracy: 0.8525 - val_loss: 0.3481\nEpoch 24/100\n\u001b[1m200/200\u001b[0m \u001b[32m━━━━━━━━━━━━━━━━━━━━\u001b[0m\u001b[37m\u001b[0m \u001b[1m0s\u001b[0m 2ms/step - accuracy: 0.8659 - loss: 0.3301 - val_accuracy: 0.8506 - val_loss: 0.3479\nEpoch 25/100\n\u001b[1m200/200\u001b[0m \u001b[32m━━━━━━━━━━━━━━━━━━━━\u001b[0m\u001b[37m\u001b[0m \u001b[1m0s\u001b[0m 2ms/step - accuracy: 0.8602 - loss: 0.3329 - val_accuracy: 0.8575 - val_loss: 0.3474\nEpoch 26/100\n\u001b[1m200/200\u001b[0m \u001b[32m━━━━━━━━━━━━━━━━━━━━\u001b[0m\u001b[37m\u001b[0m \u001b[1m1s\u001b[0m 2ms/step - accuracy: 0.8689 - loss: 0.3147 - val_accuracy: 0.8519 - val_loss: 0.3490\nEpoch 27/100\n\u001b[1m200/200\u001b[0m \u001b[32m━━━━━━━━━━━━━━━━━━━━\u001b[0m\u001b[37m\u001b[0m \u001b[1m0s\u001b[0m 2ms/step - accuracy: 0.8641 - loss: 0.3291 - val_accuracy: 0.8544 - val_loss: 0.3494\nEpoch 28/100\n\u001b[1m200/200\u001b[0m \u001b[32m━━━━━━━━━━━━━━━━━━━━\u001b[0m\u001b[37m\u001b[0m \u001b[1m1s\u001b[0m 2ms/step - accuracy: 0.8631 - loss: 0.3307 - val_accuracy: 0.8562 - val_loss: 0.3480\nEpoch 29/100\n\u001b[1m200/200\u001b[0m \u001b[32m━━━━━━━━━━━━━━━━━━━━\u001b[0m\u001b[37m\u001b[0m \u001b[1m1s\u001b[0m 2ms/step - accuracy: 0.8615 - loss: 0.3347 - val_accuracy: 0.8562 - val_loss: 0.3470\nEpoch 30/100\n\u001b[1m200/200\u001b[0m \u001b[32m━━━━━━━━━━━━━━━━━━━━\u001b[0m\u001b[37m\u001b[0m \u001b[1m0s\u001b[0m 2ms/step - accuracy: 0.8636 - loss: 0.3281 - val_accuracy: 0.8544 - val_loss: 0.3488\nEpoch 31/100\n\u001b[1m200/200\u001b[0m \u001b[32m━━━━━━━━━━━━━━━━━━━━\u001b[0m\u001b[37m\u001b[0m \u001b[1m1s\u001b[0m 2ms/step - accuracy: 0.8649 - loss: 0.3298 - val_accuracy: 0.8550 - val_loss: 0.3482\nEpoch 32/100\n\u001b[1m200/200\u001b[0m \u001b[32m━━━━━━━━━━━━━━━━━━━━\u001b[0m\u001b[37m\u001b[0m \u001b[1m1s\u001b[0m 2ms/step - accuracy: 0.8725 - loss: 0.3140 - val_accuracy: 0.8562 - val_loss: 0.3471\nEpoch 33/100\n\u001b[1m200/200\u001b[0m \u001b[32m━━━━━━━━━━━━━━━━━━━━\u001b[0m\u001b[37m\u001b[0m \u001b[1m0s\u001b[0m 2ms/step - accuracy: 0.8649 - loss: 0.3342 - val_accuracy: 0.8544 - val_loss: 0.3468\nEpoch 34/100\n\u001b[1m200/200\u001b[0m \u001b[32m━━━━━━━━━━━━━━━━━━━━\u001b[0m\u001b[37m\u001b[0m \u001b[1m0s\u001b[0m 2ms/step - accuracy: 0.8611 - loss: 0.3331 - val_accuracy: 0.8562 - val_loss: 0.3473\nEpoch 35/100\n\u001b[1m200/200\u001b[0m \u001b[32m━━━━━━━━━━━━━━━━━━━━\u001b[0m\u001b[37m\u001b[0m \u001b[1m1s\u001b[0m 2ms/step - accuracy: 0.8547 - loss: 0.3414 - val_accuracy: 0.8537 - val_loss: 0.3487\nEpoch 36/100\n\u001b[1m200/200\u001b[0m \u001b[32m━━━━━━━━━━━━━━━━━━━━\u001b[0m\u001b[37m\u001b[0m \u001b[1m0s\u001b[0m 2ms/step - accuracy: 0.8698 - loss: 0.3161 - val_accuracy: 0.8544 - val_loss: 0.3475\nEpoch 37/100\n\u001b[1m200/200\u001b[0m \u001b[32m━━━━━━━━━━━━━━━━━━━━\u001b[0m\u001b[37m\u001b[0m \u001b[1m1s\u001b[0m 2ms/step - accuracy: 0.8626 - loss: 0.3361 - val_accuracy: 0.8575 - val_loss: 0.3482\nEpoch 38/100\n\u001b[1m200/200\u001b[0m \u001b[32m━━━━━━━━━━━━━━━━━━━━\u001b[0m\u001b[37m\u001b[0m \u001b[1m1s\u001b[0m 2ms/step - accuracy: 0.8644 - loss: 0.3270 - val_accuracy: 0.8562 - val_loss: 0.3477\nEpoch 39/100\n\u001b[1m200/200\u001b[0m \u001b[32m━━━━━━━━━━━━━━━━━━━━\u001b[0m\u001b[37m\u001b[0m \u001b[1m1s\u001b[0m 2ms/step - accuracy: 0.8699 - loss: 0.3276 - val_accuracy: 0.8562 - val_loss: 0.3471\nEpoch 40/100\n\u001b[1m200/200\u001b[0m \u001b[32m━━━━━━━━━━━━━━━━━━━━\u001b[0m\u001b[37m\u001b[0m \u001b[1m1s\u001b[0m 2ms/step - accuracy: 0.8692 - loss: 0.3166 - val_accuracy: 0.8537 - val_loss: 0.3464\nEpoch 41/100\n\u001b[1m200/200\u001b[0m \u001b[32m━━━━━━━━━━━━━━━━━━━━\u001b[0m\u001b[37m\u001b[0m \u001b[1m0s\u001b[0m 2ms/step - accuracy: 0.8693 - loss: 0.3193 - val_accuracy: 0.8537 - val_loss: 0.3482\nEpoch 42/100\n\u001b[1m200/200\u001b[0m \u001b[32m━━━━━━━━━━━━━━━━━━━━\u001b[0m\u001b[37m\u001b[0m \u001b[1m1s\u001b[0m 2ms/step - accuracy: 0.8678 - loss: 0.3187 - val_accuracy: 0.8537 - val_loss: 0.3480\nEpoch 43/100\n\u001b[1m200/200\u001b[0m \u001b[32m━━━━━━━━━━━━━━━━━━━━\u001b[0m\u001b[37m\u001b[0m \u001b[1m1s\u001b[0m 2ms/step - accuracy: 0.8603 - loss: 0.3297 - val_accuracy: 0.8544 - val_loss: 0.3508\nEpoch 44/100\n\u001b[1m200/200\u001b[0m \u001b[32m━━━━━━━━━━━━━━━━━━━━\u001b[0m\u001b[37m\u001b[0m \u001b[1m1s\u001b[0m 2ms/step - accuracy: 0.8672 - loss: 0.3245 - val_accuracy: 0.8500 - val_loss: 0.3516\nEpoch 45/100\n\u001b[1m200/200\u001b[0m \u001b[32m━━━━━━━━━━━━━━━━━━━━\u001b[0m\u001b[37m\u001b[0m \u001b[1m1s\u001b[0m 2ms/step - accuracy: 0.8691 - loss: 0.3199 - val_accuracy: 0.8550 - val_loss: 0.3479\nEpoch 46/100\n\u001b[1m200/200\u001b[0m \u001b[32m━━━━━━━━━━━━━━━━━━━━\u001b[0m\u001b[37m\u001b[0m \u001b[1m1s\u001b[0m 2ms/step - accuracy: 0.8637 - loss: 0.3264 - val_accuracy: 0.8537 - val_loss: 0.3488\nEpoch 47/100\n\u001b[1m200/200\u001b[0m \u001b[32m━━━━━━━━━━━━━━━━━━━━\u001b[0m\u001b[37m\u001b[0m \u001b[1m0s\u001b[0m 2ms/step - accuracy: 0.8620 - loss: 0.3309 - val_accuracy: 0.8531 - val_loss: 0.3494\nEpoch 48/100\n\u001b[1m200/200\u001b[0m \u001b[32m━━━━━━━━━━━━━━━━━━━━\u001b[0m\u001b[37m\u001b[0m \u001b[1m1s\u001b[0m 2ms/step - accuracy: 0.8633 - loss: 0.3318 - val_accuracy: 0.8519 - val_loss: 0.3480\nEpoch 49/100\n\u001b[1m200/200\u001b[0m \u001b[32m━━━━━━━━━━━━━━━━━━━━\u001b[0m\u001b[37m\u001b[0m \u001b[1m1s\u001b[0m 2ms/step - accuracy: 0.8647 - loss: 0.3204 - val_accuracy: 0.8537 - val_loss: 0.3491\nEpoch 50/100\n\u001b[1m200/200\u001b[0m \u001b[32m━━━━━━━━━━━━━━━━━━━━\u001b[0m\u001b[37m\u001b[0m \u001b[1m0s\u001b[0m 2ms/step - accuracy: 0.8651 - loss: 0.3202 - val_accuracy: 0.8506 - val_loss: 0.3500\nEpoch 51/100\n\u001b[1m200/200\u001b[0m \u001b[32m━━━━━━━━━━━━━━━━━━━━\u001b[0m\u001b[37m\u001b[0m \u001b[1m0s\u001b[0m 2ms/step - accuracy: 0.8670 - loss: 0.3188 - val_accuracy: 0.8525 - val_loss: 0.3514\nEpoch 52/100\n\u001b[1m200/200\u001b[0m \u001b[32m━━━━━━━━━━━━━━━━━━━━\u001b[0m\u001b[37m\u001b[0m \u001b[1m0s\u001b[0m 2ms/step - accuracy: 0.8673 - loss: 0.3230 - val_accuracy: 0.8525 - val_loss: 0.3493\nEpoch 53/100\n\u001b[1m200/200\u001b[0m \u001b[32m━━━━━━━━━━━━━━━━━━━━\u001b[0m\u001b[37m\u001b[0m \u001b[1m0s\u001b[0m 2ms/step - accuracy: 0.8694 - loss: 0.3126 - val_accuracy: 0.8512 - val_loss: 0.3501\nEpoch 54/100\n\u001b[1m200/200\u001b[0m \u001b[32m━━━━━━━━━━━━━━━━━━━━\u001b[0m\u001b[37m\u001b[0m \u001b[1m1s\u001b[0m 2ms/step - accuracy: 0.8631 - loss: 0.3269 - val_accuracy: 0.8506 - val_loss: 0.3496\nEpoch 55/100\n\u001b[1m200/200\u001b[0m \u001b[32m━━━━━━━━━━━━━━━━━━━━\u001b[0m\u001b[37m\u001b[0m \u001b[1m1s\u001b[0m 2ms/step - accuracy: 0.8650 - loss: 0.3296 - val_accuracy: 0.8512 - val_loss: 0.3524\nEpoch 56/100\n\u001b[1m200/200\u001b[0m \u001b[32m━━━━━━━━━━━━━━━━━━━━\u001b[0m\u001b[37m\u001b[0m \u001b[1m0s\u001b[0m 2ms/step - accuracy: 0.8658 - loss: 0.3201 - val_accuracy: 0.8494 - val_loss: 0.3501\nEpoch 57/100\n\u001b[1m200/200\u001b[0m \u001b[32m━━━━━━━━━━━━━━━━━━━━\u001b[0m\u001b[37m\u001b[0m \u001b[1m0s\u001b[0m 2ms/step - accuracy: 0.8632 - loss: 0.3180 - val_accuracy: 0.8506 - val_loss: 0.3516\nEpoch 58/100\n\u001b[1m200/200\u001b[0m \u001b[32m━━━━━━━━━━━━━━━━━━━━\u001b[0m\u001b[37m\u001b[0m \u001b[1m0s\u001b[0m 2ms/step - accuracy: 0.8706 - loss: 0.3138 - val_accuracy: 0.8525 - val_loss: 0.3512\nEpoch 59/100\n\u001b[1m200/200\u001b[0m \u001b[32m━━━━━━━━━━━━━━━━━━━━\u001b[0m\u001b[37m\u001b[0m \u001b[1m0s\u001b[0m 2ms/step - accuracy: 0.8737 - loss: 0.3103 - val_accuracy: 0.8506 - val_loss: 0.3508\nEpoch 60/100\n\u001b[1m200/200\u001b[0m \u001b[32m━━━━━━━━━━━━━━━━━━━━\u001b[0m\u001b[37m\u001b[0m \u001b[1m1s\u001b[0m 2ms/step - accuracy: 0.8713 - loss: 0.3157 - val_accuracy: 0.8431 - val_loss: 0.3534\nEpoch 61/100\n\u001b[1m200/200\u001b[0m \u001b[32m━━━━━━━━━━━━━━━━━━━━\u001b[0m\u001b[37m\u001b[0m \u001b[1m1s\u001b[0m 2ms/step - accuracy: 0.8700 - loss: 0.3177 - val_accuracy: 0.8469 - val_loss: 0.3520\nEpoch 62/100\n\u001b[1m200/200\u001b[0m \u001b[32m━━━━━━━━━━━━━━━━━━━━\u001b[0m\u001b[37m\u001b[0m \u001b[1m1s\u001b[0m 2ms/step - accuracy: 0.8679 - loss: 0.3199 - val_accuracy: 0.8519 - val_loss: 0.3514\nEpoch 63/100\n\u001b[1m200/200\u001b[0m \u001b[32m━━━━━━━━━━━━━━━━━━━━\u001b[0m\u001b[37m\u001b[0m \u001b[1m1s\u001b[0m 2ms/step - accuracy: 0.8653 - loss: 0.3248 - val_accuracy: 0.8481 - val_loss: 0.3532\nEpoch 64/100\n\u001b[1m200/200\u001b[0m \u001b[32m━━━━━━━━━━━━━━━━━━━━\u001b[0m\u001b[37m\u001b[0m \u001b[1m0s\u001b[0m 2ms/step - accuracy: 0.8716 - loss: 0.3115 - val_accuracy: 0.8537 - val_loss: 0.3524\nEpoch 65/100\n\u001b[1m200/200\u001b[0m \u001b[32m━━━━━━━━━━━━━━━━━━━━\u001b[0m\u001b[37m\u001b[0m \u001b[1m0s\u001b[0m 2ms/step - accuracy: 0.8655 - loss: 0.3213 - val_accuracy: 0.8487 - val_loss: 0.3524\nEpoch 66/100\n\u001b[1m200/200\u001b[0m \u001b[32m━━━━━━━━━━━━━━━━━━━━\u001b[0m\u001b[37m\u001b[0m \u001b[1m1s\u001b[0m 2ms/step - accuracy: 0.8700 - loss: 0.3197 - val_accuracy: 0.8506 - val_loss: 0.3507\nEpoch 67/100\n\u001b[1m200/200\u001b[0m \u001b[32m━━━━━━━━━━━━━━━━━━━━\u001b[0m\u001b[37m\u001b[0m \u001b[1m1s\u001b[0m 2ms/step - accuracy: 0.8584 - loss: 0.3276 - val_accuracy: 0.8512 - val_loss: 0.3527\nEpoch 68/100\n\u001b[1m200/200\u001b[0m \u001b[32m━━━━━━━━━━━━━━━━━━━━\u001b[0m\u001b[37m\u001b[0m \u001b[1m1s\u001b[0m 2ms/step - accuracy: 0.8665 - loss: 0.3234 - val_accuracy: 0.8519 - val_loss: 0.3526\nEpoch 69/100\n\u001b[1m200/200\u001b[0m \u001b[32m━━━━━━━━━━━━━━━━━━━━\u001b[0m\u001b[37m\u001b[0m \u001b[1m0s\u001b[0m 2ms/step - accuracy: 0.8608 - loss: 0.3247 - val_accuracy: 0.8550 - val_loss: 0.3513\nEpoch 70/100\n\u001b[1m200/200\u001b[0m \u001b[32m━━━━━━━━━━━━━━━━━━━━\u001b[0m\u001b[37m\u001b[0m \u001b[1m0s\u001b[0m 2ms/step - accuracy: 0.8751 - loss: 0.3129 - val_accuracy: 0.8506 - val_loss: 0.3513\nEpoch 71/100\n\u001b[1m200/200\u001b[0m \u001b[32m━━━━━━━━━━━━━━━━━━━━\u001b[0m\u001b[37m\u001b[0m \u001b[1m1s\u001b[0m 2ms/step - accuracy: 0.8700 - loss: 0.3096 - val_accuracy: 0.8494 - val_loss: 0.3581\nEpoch 72/100\n\u001b[1m200/200\u001b[0m \u001b[32m━━━━━━━━━━━━━━━━━━━━\u001b[0m\u001b[37m\u001b[0m \u001b[1m1s\u001b[0m 2ms/step - accuracy: 0.8700 - loss: 0.3157 - val_accuracy: 0.8462 - val_loss: 0.3567\nEpoch 73/100\n\u001b[1m200/200\u001b[0m \u001b[32m━━━━━━━━━━━━━━━━━━━━\u001b[0m\u001b[37m\u001b[0m \u001b[1m0s\u001b[0m 2ms/step - accuracy: 0.8775 - loss: 0.3056 - val_accuracy: 0.8512 - val_loss: 0.3518\nEpoch 74/100\n\u001b[1m200/200\u001b[0m \u001b[32m━━━━━━━━━━━━━━━━━━━━\u001b[0m\u001b[37m\u001b[0m \u001b[1m1s\u001b[0m 2ms/step - accuracy: 0.8631 - loss: 0.3241 - val_accuracy: 0.8494 - val_loss: 0.3544\nEpoch 75/100\n\u001b[1m200/200\u001b[0m \u001b[32m━━━━━━━━━━━━━━━━━━━━\u001b[0m\u001b[37m\u001b[0m \u001b[1m0s\u001b[0m 2ms/step - accuracy: 0.8642 - loss: 0.3194 - val_accuracy: 0.8475 - val_loss: 0.3542\nEpoch 76/100\n\u001b[1m200/200\u001b[0m \u001b[32m━━━━━━━━━━━━━━━━━━━━\u001b[0m\u001b[37m\u001b[0m \u001b[1m1s\u001b[0m 2ms/step - accuracy: 0.8682 - loss: 0.3190 - val_accuracy: 0.8475 - val_loss: 0.3542\nEpoch 77/100\n\u001b[1m200/200\u001b[0m \u001b[32m━━━━━━━━━━━━━━━━━━━━\u001b[0m\u001b[37m\u001b[0m \u001b[1m1s\u001b[0m 2ms/step - accuracy: 0.8646 - loss: 0.3194 - val_accuracy: 0.8506 - val_loss: 0.3533\nEpoch 78/100\n\u001b[1m200/200\u001b[0m \u001b[32m━━━━━━━━━━━━━━━━━━━━\u001b[0m\u001b[37m\u001b[0m \u001b[1m0s\u001b[0m 2ms/step - accuracy: 0.8635 - loss: 0.3218 - val_accuracy: 0.8500 - val_loss: 0.3554\nEpoch 79/100\n\u001b[1m200/200\u001b[0m \u001b[32m━━━━━━━━━━━━━━━━━━━━\u001b[0m\u001b[37m\u001b[0m \u001b[1m1s\u001b[0m 2ms/step - accuracy: 0.8704 - loss: 0.3194 - val_accuracy: 0.8519 - val_loss: 0.3533\nEpoch 80/100\n\u001b[1m200/200\u001b[0m \u001b[32m━━━━━━━━━━━━━━━━━━━━\u001b[0m\u001b[37m\u001b[0m \u001b[1m0s\u001b[0m 2ms/step - accuracy: 0.8744 - loss: 0.3099 - val_accuracy: 0.8519 - val_loss: 0.3524\nEpoch 81/100\n\u001b[1m200/200\u001b[0m \u001b[32m━━━━━━━━━━━━━━━━━━━━\u001b[0m\u001b[37m\u001b[0m \u001b[1m1s\u001b[0m 2ms/step - accuracy: 0.8694 - loss: 0.3114 - val_accuracy: 0.8537 - val_loss: 0.3536\nEpoch 82/100\n\u001b[1m200/200\u001b[0m \u001b[32m━━━━━━━━━━━━━━━━━━━━\u001b[0m\u001b[37m\u001b[0m \u001b[1m0s\u001b[0m 2ms/step - accuracy: 0.8667 - loss: 0.3174 - val_accuracy: 0.8506 - val_loss: 0.3536\nEpoch 83/100\n\u001b[1m200/200\u001b[0m \u001b[32m━━━━━━━━━━━━━━━━━━━━\u001b[0m\u001b[37m\u001b[0m \u001b[1m1s\u001b[0m 2ms/step - accuracy: 0.8640 - loss: 0.3199 - val_accuracy: 0.8512 - val_loss: 0.3537\nEpoch 84/100\n\u001b[1m200/200\u001b[0m \u001b[32m━━━━━━━━━━━━━━━━━━━━\u001b[0m\u001b[37m\u001b[0m \u001b[1m0s\u001b[0m 2ms/step - accuracy: 0.8764 - loss: 0.3112 - val_accuracy: 0.8525 - val_loss: 0.3529\nEpoch 85/100\n\u001b[1m200/200\u001b[0m \u001b[32m━━━━━━━━━━━━━━━━━━━━\u001b[0m\u001b[37m\u001b[0m \u001b[1m1s\u001b[0m 2ms/step - accuracy: 0.8652 - loss: 0.3258 - val_accuracy: 0.8500 - val_loss: 0.3543\nEpoch 86/100\n\u001b[1m200/200\u001b[0m \u001b[32m━━━━━━━━━━━━━━━━━━━━\u001b[0m\u001b[37m\u001b[0m \u001b[1m1s\u001b[0m 2ms/step - accuracy: 0.8660 - loss: 0.3250 - val_accuracy: 0.8506 - val_loss: 0.3560\nEpoch 87/100\n\u001b[1m200/200\u001b[0m \u001b[32m━━━━━━━━━━━━━━━━━━━━\u001b[0m\u001b[37m\u001b[0m \u001b[1m1s\u001b[0m 2ms/step - accuracy: 0.8678 - loss: 0.3240 - val_accuracy: 0.8475 - val_loss: 0.3543\nEpoch 88/100\n\u001b[1m200/200\u001b[0m \u001b[32m━━━━━━━━━━━━━━━━━━━━\u001b[0m\u001b[37m\u001b[0m \u001b[1m0s\u001b[0m 2ms/step - accuracy: 0.8723 - loss: 0.3114 - val_accuracy: 0.8469 - val_loss: 0.3541\nEpoch 89/100\n\u001b[1m200/200\u001b[0m \u001b[32m━━━━━━━━━━━━━━━━━━━━\u001b[0m\u001b[37m\u001b[0m \u001b[1m0s\u001b[0m 2ms/step - accuracy: 0.8732 - loss: 0.3099 - val_accuracy: 0.8525 - val_loss: 0.3539\nEpoch 90/100\n\u001b[1m200/200\u001b[0m \u001b[32m━━━━━━━━━━━━━━━━━━━━\u001b[0m\u001b[37m\u001b[0m \u001b[1m0s\u001b[0m 2ms/step - accuracy: 0.8702 - loss: 0.3157 - val_accuracy: 0.8525 - val_loss: 0.3536\nEpoch 91/100\n\u001b[1m200/200\u001b[0m \u001b[32m━━━━━━━━━━━━━━━━━━━━\u001b[0m\u001b[37m\u001b[0m \u001b[1m0s\u001b[0m 2ms/step - accuracy: 0.8754 - loss: 0.3107 - val_accuracy: 0.8537 - val_loss: 0.3536\nEpoch 92/100\n\u001b[1m200/200\u001b[0m \u001b[32m━━━━━━━━━━━━━━━━━━━━\u001b[0m\u001b[37m\u001b[0m \u001b[1m1s\u001b[0m 2ms/step - accuracy: 0.8658 - loss: 0.3182 - val_accuracy: 0.8475 - val_loss: 0.3565\nEpoch 93/100\n\u001b[1m200/200\u001b[0m \u001b[32m━━━━━━━━━━━━━━━━━━━━\u001b[0m\u001b[37m\u001b[0m \u001b[1m0s\u001b[0m 2ms/step - accuracy: 0.8659 - loss: 0.3231 - val_accuracy: 0.8494 - val_loss: 0.3562\nEpoch 94/100\n\u001b[1m200/200\u001b[0m \u001b[32m━━━━━━━━━━━━━━━━━━━━\u001b[0m\u001b[37m\u001b[0m \u001b[1m0s\u001b[0m 2ms/step - accuracy: 0.8680 - loss: 0.3154 - val_accuracy: 0.8481 - val_loss: 0.3549\nEpoch 95/100\n\u001b[1m200/200\u001b[0m \u001b[32m━━━━━━━━━━━━━━━━━━━━\u001b[0m\u001b[37m\u001b[0m \u001b[1m1s\u001b[0m 2ms/step - accuracy: 0.8709 - loss: 0.3107 - val_accuracy: 0.8506 - val_loss: 0.3545\nEpoch 96/100\n\u001b[1m200/200\u001b[0m \u001b[32m━━━━━━━━━━━━━━━━━━━━\u001b[0m\u001b[37m\u001b[0m \u001b[1m0s\u001b[0m 2ms/step - accuracy: 0.8695 - loss: 0.3136 - val_accuracy: 0.8494 - val_loss: 0.3545\nEpoch 97/100\n\u001b[1m200/200\u001b[0m \u001b[32m━━━━━━━━━━━━━━━━━━━━\u001b[0m\u001b[37m\u001b[0m \u001b[1m1s\u001b[0m 2ms/step - accuracy: 0.8650 - loss: 0.3215 - val_accuracy: 0.8481 - val_loss: 0.3560\nEpoch 98/100\n\u001b[1m200/200\u001b[0m \u001b[32m━━━━━━━━━━━━━━━━━━━━\u001b[0m\u001b[37m\u001b[0m \u001b[1m1s\u001b[0m 2ms/step - accuracy: 0.8640 - loss: 0.3236 - val_accuracy: 0.8525 - val_loss: 0.3567\nEpoch 99/100\n\u001b[1m200/200\u001b[0m \u001b[32m━━━━━━━━━━━━━━━━━━━━\u001b[0m\u001b[37m\u001b[0m \u001b[1m0s\u001b[0m 2ms/step - accuracy: 0.8666 - loss: 0.3197 - val_accuracy: 0.8512 - val_loss: 0.3545\nEpoch 100/100\n\u001b[1m200/200\u001b[0m \u001b[32m━━━━━━━━━━━━━━━━━━━━\u001b[0m\u001b[37m\u001b[0m \u001b[1m1s\u001b[0m 2ms/step - accuracy: 0.8718 - loss: 0.3074 - val_accuracy: 0.8481 - val_loss: 0.3557\n",
          "output_type": "stream"
        }
      ]
    },
    {
      "cell_type": "code",
      "source": [
        "import matplotlib.pyplot as plt"
      ],
      "metadata": {
        "execution": {
          "iopub.status.busy": "2024-04-08T12:12:38.068717Z",
          "iopub.execute_input": "2024-04-08T12:12:38.071429Z",
          "iopub.status.idle": "2024-04-08T12:12:38.076531Z",
          "shell.execute_reply.started": "2024-04-08T12:12:38.071378Z",
          "shell.execute_reply": "2024-04-08T12:12:38.075497Z"
        },
        "trusted": true,
        "id": "Zra2JVKXo2B2"
      },
      "execution_count": null,
      "outputs": []
    },
    {
      "cell_type": "code",
      "source": [
        "plt.plot(history.history['loss'])\n",
        "plt.plot(history.history['val_loss'])\n",
        "# Shows of loss has reduced overtime."
      ],
      "metadata": {
        "execution": {
          "iopub.status.busy": "2024-04-08T12:14:42.846648Z",
          "iopub.execute_input": "2024-04-08T12:14:42.847103Z",
          "iopub.status.idle": "2024-04-08T12:14:43.059542Z",
          "shell.execute_reply.started": "2024-04-08T12:14:42.847057Z",
          "shell.execute_reply": "2024-04-08T12:14:43.058044Z"
        },
        "trusted": true,
        "id": "OF8wzqpKo2B3",
        "outputId": "c9b117d7-e886-4bbd-ed01-d26fda5d743d"
      },
      "execution_count": null,
      "outputs": [
        {
          "execution_count": 146,
          "output_type": "execute_result",
          "data": {
            "text/plain": "[<matplotlib.lines.Line2D at 0x7b9e20c25360>]"
          },
          "metadata": {}
        },
        {
          "output_type": "display_data",
          "data": {
            "text/plain": "<Figure size 640x480 with 1 Axes>",
            "image/png": "[encoded data removed]"
          },
          "metadata": {}
        }
      ]
    },
    {
      "cell_type": "code",
      "source": [
        "plt.plot(history.history['accuracy'])\n",
        "plt.plot(history.history['val_accuracy'])\n",
        "# overfitting!!!"
      ],
      "metadata": {
        "execution": {
          "iopub.status.busy": "2024-04-08T12:15:07.611074Z",
          "iopub.execute_input": "2024-04-08T12:15:07.611521Z",
          "iopub.status.idle": "2024-04-08T12:15:07.81855Z",
          "shell.execute_reply.started": "2024-04-08T12:15:07.611473Z",
          "shell.execute_reply": "2024-04-08T12:15:07.817321Z"
        },
        "trusted": true,
        "id": "TsIyuiQ9o2B3",
        "outputId": "5152e9ce-e953-4231-d670-17b397991438"
      },
      "execution_count": null,
      "outputs": [
        {
          "execution_count": 147,
          "output_type": "execute_result",
          "data": {
            "text/plain": "[<matplotlib.lines.Line2D at 0x7b9e20ca0190>]"
          },
          "metadata": {}
        },
        {
          "output_type": "display_data",
          "data": {
            "text/plain": "<Figure size 640x480 with 1 Axes>",
            "image/png": "[encoded data removed]"
          },
          "metadata": {}
        }
      ]
    },
    {
      "cell_type": "code",
      "source": [
        "# End goal should be to reduce loss and increase accuracy.\n",
        "# Also we've to keep in mind that both training accuracy and val_accuracy should increase.\n",
        "# If only one accuracy is increasing then it becomes overfitting."
      ],
      "metadata": {
        "execution": {
          "iopub.status.busy": "2024-04-08T12:10:10.059177Z",
          "iopub.execute_input": "2024-04-08T12:10:10.059622Z",
          "iopub.status.idle": "2024-04-08T12:10:10.064422Z",
          "shell.execute_reply.started": "2024-04-08T12:10:10.059591Z",
          "shell.execute_reply": "2024-04-08T12:10:10.063522Z"
        },
        "trusted": true,
        "id": "Hquz4VD1o2B4"
      },
      "execution_count": null,
      "outputs": []
    },
    {
      "cell_type": "code",
      "source": [
        "# To find what are the weights in the architecture:\n",
        "model.layers[0].get_weights()\n",
        "\n",
        "# 11 inputs x 3 nodes(hidden layer) = 33 weights(33 lines/connection/weights)\n",
        "# and 3 bias"
      ],
      "metadata": {
        "execution": {
          "iopub.status.busy": "2024-04-08T11:45:46.527403Z",
          "iopub.execute_input": "2024-04-08T11:45:46.527847Z",
          "iopub.status.idle": "2024-04-08T11:45:46.541011Z",
          "shell.execute_reply.started": "2024-04-08T11:45:46.527815Z",
          "shell.execute_reply": "2024-04-08T11:45:46.539903Z"
        },
        "trusted": true,
        "id": "_QNk3Mg7o2B4",
        "outputId": "65e406f5-4852-4c8b-aef5-d3d5f0e0f463"
      },
      "execution_count": null,
      "outputs": [
        {
          "execution_count": 120,
          "output_type": "execute_result",
          "data": {
            "text/plain": "[array([[-0.03812011,  0.258664  , -0.0735809 ],\n        [-1.203942  , -0.8737648 , -1.4901353 ],\n        [-0.10927918,  0.1232216 ,  0.01350823],\n        [-0.5139792 , -0.5154789 ,  0.23298834],\n        [ 0.14051005,  0.1626384 , -0.04337104],\n        [-0.24009675,  0.09455644,  0.09633762],\n        [ 0.69136125,  0.9627882 ,  0.2167193 ],\n        [ 0.31958923, -0.41893387,  0.19346212],\n        [-0.341202  , -0.5606327 , -0.5009827 ],\n        [ 0.25429505, -0.28052858,  0.06152963],\n        [ 0.47838604,  0.2987609 ,  0.38059258]], dtype=float32),\n array([0.10733479, 0.12563853, 0.00421659], dtype=float32)]"
          },
          "metadata": {}
        }
      ]
    },
    {
      "cell_type": "code",
      "source": [
        "model.layers[1].get_weights()\n",
        "# 2nd layer(hidden layer) 3 nodes = 3 weights/connections/lines\n",
        "# and one bias"
      ],
      "metadata": {
        "execution": {
          "iopub.status.busy": "2024-04-08T11:47:51.707524Z",
          "iopub.execute_input": "2024-04-08T11:47:51.708005Z",
          "iopub.status.idle": "2024-04-08T11:47:51.719829Z",
          "shell.execute_reply.started": "2024-04-08T11:47:51.707972Z",
          "shell.execute_reply": "2024-04-08T11:47:51.718016Z"
        },
        "trusted": true,
        "id": "y04GdECSo2B5",
        "outputId": "13c18e9b-f38c-4f04-afa3-a1f67a9c1bb5"
      },
      "execution_count": null,
      "outputs": [
        {
          "execution_count": 122,
          "output_type": "execute_result",
          "data": {
            "text/plain": "[array([[-0.6554633],\n        [-1.46851  ],\n        [-1.3065073]], dtype=float32),\n array([0.15870537], dtype=float32)]"
          },
          "metadata": {}
        }
      ]
    },
    {
      "cell_type": "code",
      "source": [
        "y_log = model.predict(x_test_scaled)"
      ],
      "metadata": {
        "execution": {
          "iopub.status.busy": "2024-04-08T12:10:16.266097Z",
          "iopub.execute_input": "2024-04-08T12:10:16.266548Z",
          "iopub.status.idle": "2024-04-08T12:10:16.495142Z",
          "shell.execute_reply.started": "2024-04-08T12:10:16.266511Z",
          "shell.execute_reply": "2024-04-08T12:10:16.494173Z"
        },
        "trusted": true,
        "id": "0D-WDB6Xo2B5",
        "outputId": "4f045c1b-436d-443e-e63f-dae66d87a325"
      },
      "execution_count": null,
      "outputs": [
        {
          "name": "stdout",
          "text": "\u001b[1m63/63\u001b[0m \u001b[32m━━━━━━━━━━━━━━━━━━━━\u001b[0m\u001b[37m\u001b[0m \u001b[1m0s\u001b[0m 1ms/step  \n",
          "output_type": "stream"
        }
      ]
    },
    {
      "cell_type": "code",
      "source": [
        "# Above answer is not coming in 0 or 1. but is comming in probabilities\n",
        "# Because we have used activation function as sigmoid(gives probabilities)\n",
        "# Now we have to convert these probabilities in 0 or 1. its simple.\n",
        "# We just have to fix a threshold above which it will be 1 and below will be 0\n",
        "# To find threshold we have to check auc-ruc curve. but here we will take 0.5"
      ],
      "metadata": {
        "id": "h_b9OySmo2B6"
      },
      "execution_count": null,
      "outputs": []
    },
    {
      "cell_type": "code",
      "source": [
        "y_pred = np.where(y_log>0.5,1,0)\n",
        "# y_log if greater than 0.5 then 1.if not then 0[breakdown meaning of above line]\n"
      ],
      "metadata": {
        "execution": {
          "iopub.status.busy": "2024-04-08T12:10:19.63702Z",
          "iopub.execute_input": "2024-04-08T12:10:19.637409Z",
          "iopub.status.idle": "2024-04-08T12:10:19.642371Z",
          "shell.execute_reply.started": "2024-04-08T12:10:19.637378Z",
          "shell.execute_reply": "2024-04-08T12:10:19.641331Z"
        },
        "trusted": true,
        "id": "lYoq_kano2B7"
      },
      "execution_count": null,
      "outputs": []
    },
    {
      "cell_type": "code",
      "source": [
        "from sklearn.metrics import accuracy_score\n",
        "accuracy_score(y_test,y_pred)"
      ],
      "metadata": {
        "execution": {
          "iopub.status.busy": "2024-04-08T12:10:21.536439Z",
          "iopub.execute_input": "2024-04-08T12:10:21.537149Z",
          "iopub.status.idle": "2024-04-08T12:10:21.544975Z",
          "shell.execute_reply.started": "2024-04-08T12:10:21.537107Z",
          "shell.execute_reply": "2024-04-08T12:10:21.544256Z"
        },
        "trusted": true,
        "id": "w4UCKHOIo2B8",
        "outputId": "9ccbde4e-5c04-4140-a542-c5cbcedddab2"
      },
      "execution_count": null,
      "outputs": [
        {
          "execution_count": 134,
          "output_type": "execute_result",
          "data": {
            "text/plain": "0.863"
          },
          "metadata": {}
        }
      ]
    },
    {
      "cell_type": "code",
      "source": [],
      "metadata": {
        "id": "2q5kdPU5o2B-"
      },
      "execution_count": null,
      "outputs": []
    }
  ]
}